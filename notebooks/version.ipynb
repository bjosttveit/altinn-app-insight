{
 "cells": [
  {
   "cell_type": "markdown",
   "id": "75d0944e-5f98-468c-b6d3-c4f2ff5f6af1",
   "metadata": {
    "jp-MarkdownHeadingCollapsed": true
   },
   "source": [
    "# Setup"
   ]
  },
  {
   "cell_type": "code",
   "execution_count": null,
   "id": "b5a66f51-b65f-448f-a29b-20546612c621",
   "metadata": {},
   "outputs": [],
   "source": [
    "%matplotlib ipympl\n",
    "import matplotlib.pyplot\n",
    "\n",
    "matplotlib.pyplot.ioff()\n",
    "\n",
    "from package.apps import Apps"
   ]
  },
  {
   "cell_type": "markdown",
   "id": "915b466f-8988-4725-9a2e-13182f1b5c7b",
   "metadata": {},
   "source": [
    "# Queries"
   ]
  },
  {
   "cell_type": "markdown",
   "id": "55af58be-48ec-43e9-a71c-1a72914d4720",
   "metadata": {},
   "source": [
    "## Apps running signing preview"
   ]
  },
  {
   "cell_type": "code",
   "execution_count": null,
   "id": "0dc9c876-7160-46e2-a981-ee913e1e900e",
   "metadata": {},
   "outputs": [],
   "source": [
    "with Apps.init() as apps:\n",
    "    apps.where(lambda app: \".signing.\" in app.frontend_version).select(\n",
    "        {\"Frontend version\": lambda app: app.frontend_version}\n",
    "    ).table()"
   ]
  },
  {
   "cell_type": "markdown",
   "id": "0fb7639e-1654-423a-9052-9557d3c7e8d5",
   "metadata": {},
   "source": [
    "## Locked frontend versions (v4)"
   ]
  },
  {
   "cell_type": "code",
   "execution_count": null,
   "id": "4ff5f768-a1e3-4cd6-aba2-4fb59dc8b572",
   "metadata": {},
   "outputs": [],
   "source": [
    "with Apps.init() as apps:\n",
    "    frontend_versions = (\n",
    "        apps.where(lambda app: app.env == \"prod\" and app.frontend_version.major == 4 and app.frontend_version != \"4\")\n",
    "        .group_by({\"Frontend version\": lambda app: app.frontend_version})\n",
    "        .select({\"Count\": lambda apps: apps.length})\n",
    "        .order_by(lambda apps: (apps.length, apps[\"Frontend version\"]), reverse=True)\n",
    "    )\n",
    "    frontend_versions.pie(title=\"Locked frontend versions (v4)\", x=\"Frontend version\", y=\"Count\")\n",
    "    frontend_versions.table()"
   ]
  },
  {
   "cell_type": "markdown",
   "id": "a4e6b2ac-969f-4d86-b9eb-15c7944f2862",
   "metadata": {},
   "source": [
    "## Backend versions (v8)"
   ]
  },
  {
   "cell_type": "code",
   "execution_count": null,
   "id": "156bc78d-7d83-464b-a740-73b809b92e3e",
   "metadata": {},
   "outputs": [],
   "source": [
    "with Apps.init() as apps:\n",
    "    backend_versions = (\n",
    "        apps.where(lambda app: app.env == \"prod\" and app.backend_version.major == 8)\n",
    "        .group_by({\"Backend version\": lambda app: app.backend_version})\n",
    "        .select({\"Count\": lambda apps: apps.length})\n",
    "        .order_by(lambda apps: (apps.length, apps[\"Backend version\"]), reverse=True)\n",
    "    )\n",
    "\n",
    "    backend_versions.limit(15).pie(title=\"Top 15 backend versions (v8)\", x=\"Backend version\", y=\"Count\")\n",
    "    backend_versions.table()"
   ]
  }
 ],
 "metadata": {
  "kernelspec": {
   "display_name": "Python 3 (ipykernel)",
   "language": "python",
   "name": "python3"
  },
  "language_info": {
   "codemirror_mode": {
    "name": "ipython",
    "version": 3
   },
   "file_extension": ".py",
   "mimetype": "text/x-python",
   "name": "python",
   "nbconvert_exporter": "python",
   "pygments_lexer": "ipython3",
   "version": "3.13.1"
  },
  "widgets": {
   "application/vnd.jupyter.widget-state+json": {
    "state": {},
    "version_major": 2,
    "version_minor": 0
   }
  }
 },
 "nbformat": 4,
 "nbformat_minor": 5
}
