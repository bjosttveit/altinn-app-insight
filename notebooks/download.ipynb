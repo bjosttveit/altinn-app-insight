{
 "cells": [
  {
   "cell_type": "markdown",
   "id": "32d94a86-a56a-4140-b82c-3463072884d4",
   "metadata": {
    "editable": true,
    "slideshow": {
     "slide_type": ""
    },
    "tags": []
   },
   "source": [
    "# Download apps"
   ]
  },
  {
   "cell_type": "code",
   "execution_count": null,
   "id": "6b79e5cb-6a38-4283-b7f9-ddbc2610754b",
   "metadata": {
    "editable": true,
    "slideshow": {
     "slide_type": ""
    },
    "tags": []
   },
   "outputs": [],
   "source": [
    "import asyncio\n",
    "from pathlib import Path\n",
    "from package.download import QueryClient\n",
    "\n",
    "async with QueryClient(  # pyright: ignore\n",
    "    key_path=Path(\"./keys.json\"), cache_dir=Path(\"./data\"), retry_failed=False\n",
    ") as client:\n",
    "    try:\n",
    "        await client.update_apps()  # pyright: ignore\n",
    "    except (KeyboardInterrupt, asyncio.exceptions.CancelledError):\n",
    "        pass"
   ]
  }
 ],
 "metadata": {
  "kernelspec": {
   "display_name": "Python 3 (ipykernel)",
   "language": "python",
   "name": "python3"
  },
  "language_info": {
   "codemirror_mode": {
    "name": "ipython",
    "version": 3
   },
   "file_extension": ".py",
   "mimetype": "text/x-python",
   "name": "python",
   "nbconvert_exporter": "python",
   "pygments_lexer": "ipython3",
   "version": "3.13.1"
  },
  "widgets": {
   "application/vnd.jupyter.widget-state+json": {
    "state": {},
    "version_major": 2,
    "version_minor": 0
   }
  }
 },
 "nbformat": 4,
 "nbformat_minor": 5
}
