{
 "cells": [
  {
   "cell_type": "markdown",
   "id": "43f9e759-3784-499d-a9e3-e013e53e4ff4",
   "metadata": {
    "jp-MarkdownHeadingCollapsed": true
   },
   "source": [
    "# Setup"
   ]
  },
  {
   "cell_type": "code",
   "execution_count": null,
   "id": "cd989df4-9e06-4e33-9cfa-a45e559ab3ae",
   "metadata": {},
   "outputs": [],
   "source": [
    "%matplotlib ipympl\n",
    "import matplotlib.pyplot\n",
    "\n",
    "matplotlib.pyplot.ioff()\n",
    "\n",
    "from package.apps import Apps"
   ]
  },
  {
   "cell_type": "markdown",
   "id": "2755e487-cc57-4fc3-8732-ced1c5b3bed2",
   "metadata": {},
   "source": [
    "# Queries"
   ]
  },
  {
   "cell_type": "markdown",
   "id": "f642ea28-8c34-4eab-acf8-1fba6ea6fa67",
   "metadata": {},
   "source": [
    "## Apps using uncommon languages"
   ]
  },
  {
   "cell_type": "code",
   "execution_count": null,
   "id": "01b3291e-11e9-4c57-9654-f2a36e3a394f",
   "metadata": {},
   "outputs": [],
   "source": [
    "with Apps.init() as apps:\n",
    "    apps.where(\n",
    "        lambda app: app.text_resources.some(lambda text_resource: text_resource.language not in [\"nb\", \"nn\", \"en\"])\n",
    "    ).select({\"Languages\": lambda app: app.text_resources.map(lambda text_resource: text_resource.language)}).table()"
   ]
  },
  {
   "cell_type": "markdown",
   "id": "f619d716-bbd5-4809-b92d-009c23d2703e",
   "metadata": {},
   "source": [
    "## Unique languages across all apps"
   ]
  },
  {
   "cell_type": "code",
   "execution_count": null,
   "id": "b35c62ac-1203-45b8-8e22-9fa57c0a2ae9",
   "metadata": {},
   "outputs": [],
   "source": [
    "with Apps.init() as apps:\n",
    "    languages = (\n",
    "        apps.select({\"Languages\": lambda app: app.text_resources.map(lambda text_resource: text_resource.language)})\n",
    "        .i.flat_map(lambda app: app[\"Languages\"])\n",
    "        .unique()\n",
    "        .sort()\n",
    "    )\n",
    "    print(languages)"
   ]
  },
  {
   "cell_type": "markdown",
   "id": "ec75012d-c43a-40c5-a6b5-07f1af79ac23",
   "metadata": {},
   "source": [
    "## Mismatch between file name and language prop"
   ]
  },
  {
   "cell_type": "code",
   "execution_count": null,
   "id": "ee2c7e5a-53fa-4036-8713-f1bb00c3a3f2",
   "metadata": {},
   "outputs": [],
   "source": [
    "with Apps.init() as apps:\n",
    "    apps.select(\n",
    "        {\n",
    "            \"Language mismatches\": lambda app: app.text_resources.filter(\n",
    "                lambda text_resource: text_resource.language != text_resource[\".language\"]\n",
    "            ).map(lambda text_resource: f\"{text_resource.file_name}: '{text_resource['.language']}'\")\n",
    "        }\n",
    "    ).where(lambda app: app[\"Language mismatches\"].length > 0).table()"
   ]
  }
 ],
 "metadata": {
  "kernelspec": {
   "display_name": "Python 3 (ipykernel)",
   "language": "python",
   "name": "python3"
  },
  "language_info": {
   "codemirror_mode": {
    "name": "ipython",
    "version": 3
   },
   "file_extension": ".py",
   "mimetype": "text/x-python",
   "name": "python",
   "nbconvert_exporter": "python",
   "pygments_lexer": "ipython3",
   "version": "3.13.1"
  },
  "widgets": {
   "application/vnd.jupyter.widget-state+json": {
    "state": {},
    "version_major": 2,
    "version_minor": 0
   }
  }
 },
 "nbformat": 4,
 "nbformat_minor": 5
}
