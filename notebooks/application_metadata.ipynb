{
 "cells": [
  {
   "cell_type": "markdown",
   "id": "0cef899d-66d4-4b26-a490-dacea0159e51",
   "metadata": {
    "jp-MarkdownHeadingCollapsed": true
   },
   "source": [
    "# Setup"
   ]
  },
  {
   "cell_type": "code",
   "execution_count": 1,
   "id": "fe7f00a4-63b8-4a8e-9180-0071740c903c",
   "metadata": {},
   "outputs": [],
   "source": [
    "%matplotlib ipympl\n",
    "import matplotlib, matplotlib.pyplot\n",
    "matplotlib.pyplot.ioff()\n",
    "\n",
    "import sys\n",
    "sys.path.append(\"..\")\n",
    "\n",
    "from pathlib import Path\n",
    "from analyze import Apps\n",
    "\n",
    "apps_dir = Path(\"../data\")"
   ]
  },
  {
   "cell_type": "markdown",
   "id": "38b1206d-7b91-46f7-87aa-9d7694ce9ef1",
   "metadata": {},
   "source": [
    "# Queries"
   ]
  },
  {
   "cell_type": "markdown",
   "id": "bef73428-30f3-46c4-b75f-b133deb7861b",
   "metadata": {},
   "source": [
    "## Stateless apps in prod"
   ]
  },
  {
   "cell_type": "code",
   "execution_count": 2,
   "id": "0b79253c-6c83-4be1-9727-7432fb118825",
   "metadata": {},
   "outputs": [
    {
     "data": {
      "text/html": [
       "<table>\n",
       "<thead>\n",
       "<tr><th>Env  </th><th>Org  </th><th>App                          </th><th>On entry        </th></tr>\n",
       "</thead>\n",
       "<tbody>\n",
       "<tr><td>prod </td><td>brg  </td><td>anonym-oppstartsveilederen   </td><td>stateless       </td></tr>\n",
       "<tr><td>prod </td><td>brg  </td><td>lpid-wallet-2024             </td><td>stateless       </td></tr>\n",
       "<tr><td>prod </td><td>brg  </td><td>oppstartsveileder-as-anonym  </td><td>stateless       </td></tr>\n",
       "<tr><td>prod </td><td>brg  </td><td>veil-persontransport-anonym  </td><td>stateless       </td></tr>\n",
       "<tr><td>prod </td><td>brg  </td><td>veil-servering-anonym        </td><td>stateless       </td></tr>\n",
       "<tr><td>prod </td><td>brg  </td><td>veileder-godstransport-anonym</td><td>stateless       </td></tr>\n",
       "<tr><td>prod </td><td>udir </td><td>pbu-prod-anonym              </td><td>front-page      </td></tr>\n",
       "<tr><td>prod </td><td>udir </td><td>pbu-prod-demo                </td><td>demo-survey     </td></tr>\n",
       "<tr><td>prod </td><td>udir </td><td>pbu-prod-kodebruker          </td><td>stateless-survey</td></tr>\n",
       "<tr><td>prod </td><td>valg </td><td>valgkort                     </td><td>valgkort        </td></tr>\n",
       "<tr><td>prod </td><td>svv  </td><td>transportloyvegarantier      </td><td>stateless       </td></tr>\n",
       "<tr><td>prod </td><td>ttd  </td><td>valgkort                     </td><td>valgkort        </td></tr>\n",
       "</tbody>\n",
       "</table>"
      ]
     },
     "metadata": {},
     "output_type": "display_data"
    },
    {
     "name": "stdout",
     "output_type": "stream",
     "text": [
      "Count: 12\n"
     ]
    }
   ],
   "source": [
    "with Apps.init(apps_dir) as apps:\n",
    "    apps.where(lambda app: app.env == \"prod\" and app.application_metadata[\".onEntry.show\"] not in [None, 'select-instance', 'new-instance']) \\\n",
    "    .select({\"On entry\": lambda app: (app.application_metadata[\".onEntry.show\"])}) \\\n",
    "    .table()\n"
   ]
  },
  {
   "cell_type": "markdown",
   "id": "9e1a8948-a548-4bdc-9202-c8d9f137d894",
   "metadata": {},
   "source": [
    "## Stateless anonymous apps in prod"
   ]
  },
  {
   "cell_type": "code",
   "execution_count": 3,
   "id": "60f80bcd-c6e7-49d8-874d-517b67149827",
   "metadata": {},
   "outputs": [
    {
     "data": {
      "text/html": [
       "<table>\n",
       "<thead>\n",
       "<tr><th>Env  </th><th>Org  </th><th>App                          </th><th>On entry        </th><th>Anonymous dataTypes  </th></tr>\n",
       "</thead>\n",
       "<tbody>\n",
       "<tr><td>prod </td><td>brg  </td><td>anonym-oppstartsveilederen   </td><td>stateless       </td><td>oppstart             </td></tr>\n",
       "<tr><td>prod </td><td>brg  </td><td>oppstartsveileder-as-anonym  </td><td>stateless       </td><td>oppstart             </td></tr>\n",
       "<tr><td>prod </td><td>brg  </td><td>veil-persontransport-anonym  </td><td>stateless       </td><td>oppstart             </td></tr>\n",
       "<tr><td>prod </td><td>brg  </td><td>veil-servering-anonym        </td><td>stateless       </td><td>oppstart             </td></tr>\n",
       "<tr><td>prod </td><td>brg  </td><td>veileder-godstransport-anonym</td><td>stateless       </td><td>oppstart             </td></tr>\n",
       "<tr><td>prod </td><td>udir </td><td>pbu-prod-demo                </td><td>demo-survey     </td><td>survey               </td></tr>\n",
       "<tr><td>prod </td><td>udir </td><td>pbu-prod-kodebruker          </td><td>stateless-survey</td><td>survey               </td></tr>\n",
       "</tbody>\n",
       "</table>"
      ]
     },
     "metadata": {},
     "output_type": "display_data"
    },
    {
     "name": "stdout",
     "output_type": "stream",
     "text": [
      "Count: 7\n"
     ]
    }
   ],
   "source": [
    "with Apps.init(apps_dir) as apps:\n",
    "    apps.where(\n",
    "        lambda app: app.env == \"prod\" \\\n",
    "        and app.application_metadata[\".onEntry.show\"] not in [None, 'select-instance', 'new-instance'] \\\n",
    "        and app.application_metadata[\".dataTypes.[].appLogic.allowAnonymousOnStateless\", :].some(lambda value: value == True)) \\\n",
    "    .select({\n",
    "        \"On entry\": lambda app: app.application_metadata[\".onEntry.show\"],\n",
    "        \"Anonymous dataTypes\": lambda app: app.application_metadata[\".dataTypes.[]\", :]\n",
    "        .filter(lambda dataType: dataType[\".appLogic.allowAnonymousOnStateless\"] == True)\n",
    "        .map(lambda dataType: dataType[\".id\"])\n",
    "    }) \\\n",
    "    .table()\n"
   ]
  }
 ],
 "metadata": {
  "kernelspec": {
   "display_name": "Python 3 (ipykernel)",
   "language": "python",
   "name": "python3"
  },
  "language_info": {
   "codemirror_mode": {
    "name": "ipython",
    "version": 3
   },
   "file_extension": ".py",
   "mimetype": "text/x-python",
   "name": "python",
   "nbconvert_exporter": "python",
   "pygments_lexer": "ipython3",
   "version": "3.13.1"
  },
  "widgets": {
   "application/vnd.jupyter.widget-state+json": {
    "state": {},
    "version_major": 2,
    "version_minor": 0
   }
  }
 },
 "nbformat": 4,
 "nbformat_minor": 5
}
