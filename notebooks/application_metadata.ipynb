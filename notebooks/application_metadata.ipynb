{
 "cells": [
  {
   "cell_type": "markdown",
   "id": "0cef899d-66d4-4b26-a490-dacea0159e51",
   "metadata": {
    "jp-MarkdownHeadingCollapsed": true
   },
   "source": [
    "# Setup"
   ]
  },
  {
   "cell_type": "code",
   "execution_count": null,
   "id": "fe7f00a4-63b8-4a8e-9180-0071740c903c",
   "metadata": {},
   "outputs": [],
   "source": [
    "%matplotlib ipympl\n",
    "import matplotlib.pyplot\n",
    "\n",
    "matplotlib.pyplot.ioff()\n",
    "\n",
    "from package.apps import Apps"
   ]
  },
  {
   "cell_type": "markdown",
   "id": "38b1206d-7b91-46f7-87aa-9d7694ce9ef1",
   "metadata": {},
   "source": [
    "# Queries"
   ]
  },
  {
   "cell_type": "markdown",
   "id": "bef73428-30f3-46c4-b75f-b133deb7861b",
   "metadata": {},
   "source": [
    "## Stateless apps in prod"
   ]
  },
  {
   "cell_type": "code",
   "execution_count": null,
   "id": "0b79253c-6c83-4be1-9727-7432fb118825",
   "metadata": {},
   "outputs": [],
   "source": [
    "with Apps.init() as apps:\n",
    "    apps.where(\n",
    "        lambda app: app.env == \"prod\"\n",
    "        and app.application_metadata[\".onEntry.show\"] not in [None, \"select-instance\", \"new-instance\"]\n",
    "    ).select({\"On entry\": lambda app: app.application_metadata[\".onEntry.show\"]}).order_by(\n",
    "        lambda app: app[\"On entry\"]\n",
    "    ).table()"
   ]
  },
  {
   "cell_type": "markdown",
   "id": "9e1a8948-a548-4bdc-9202-c8d9f137d894",
   "metadata": {},
   "source": [
    "## Stateless anonymous apps in prod"
   ]
  },
  {
   "cell_type": "code",
   "execution_count": null,
   "id": "60f80bcd-c6e7-49d8-874d-517b67149827",
   "metadata": {},
   "outputs": [],
   "source": [
    "with Apps.init() as apps:\n",
    "    apps.where(\n",
    "        lambda app: app.env == \"prod\"\n",
    "        and app.application_metadata[\".onEntry.show\"] not in [None, \"select-instance\", \"new-instance\"]\n",
    "        and app.application_metadata[\".dataTypes.[].appLogic.allowAnonymousOnStateless\", :].some(\n",
    "            lambda value: value == True\n",
    "        )\n",
    "    ).select(\n",
    "        {\n",
    "            \"On entry\": lambda app: app.application_metadata[\".onEntry.show\"],\n",
    "            \"Anonymous dataTypes\": lambda app: app.application_metadata[\".dataTypes.[]\", :]\n",
    "            .filter(lambda dataType: dataType[\".appLogic.allowAnonymousOnStateless\"] == True)\n",
    "            .map(lambda dataType: dataType[\".id\"]),\n",
    "        }\n",
    "    ).table()"
   ]
  },
  {
   "cell_type": "markdown",
   "id": "7da97766-f5c3-4ff0-b4b9-78e67abba7b0",
   "metadata": {},
   "source": [
    "## Enabled copy instance with more than one task and data model"
   ]
  },
  {
   "cell_type": "code",
   "execution_count": null,
   "id": "09667128-8cc2-4a7b-a95b-a13d16e6c518",
   "metadata": {},
   "outputs": [],
   "source": [
    "with Apps.init() as apps:\n",
    "    apps.where(\n",
    "        lambda app: app.application_metadata[\".copyInstanceSettings.enabled\"] == True\n",
    "        and app.application_metadata[\".dataTypes.[]\", :]\n",
    "        .filter(lambda dataType: dataType[\".appLogic.classRef\"] != None and dataType[\".taskId\"] != None)\n",
    "        .map(lambda dataType: dataType[\".taskId\"])\n",
    "        .unique()\n",
    "        .length\n",
    "        > 1\n",
    "    ).select(\n",
    "        {\n",
    "            \"Copy enabled\": lambda app: app.application_metadata[\".copyInstanceSettings.enabled\"],\n",
    "            \"Tasks\": lambda app: app.application_metadata[\".dataTypes.[]\", :]\n",
    "            .filter(lambda dataType: dataType[\".appLogic.classRef\"] != None and dataType[\".taskId\"] != None)\n",
    "            .map(lambda dataType: dataType[\".taskId\"])\n",
    "            .unique(),\n",
    "        }\n",
    "    ).order_by(\n",
    "        lambda app: (app.org, app.app, app.env)\n",
    "    ).table()"
   ]
  },
  {
   "cell_type": "markdown",
   "id": "e605732c-43e3-458c-966a-73387defea57",
   "metadata": {},
   "source": [
    "## Apps missing `ref-data-as-pdf` dataType with `enablePdfCreation`"
   ]
  },
  {
   "cell_type": "code",
   "execution_count": null,
   "id": "082749d6-02b5-4391-8912-f7deae6982d9",
   "metadata": {},
   "outputs": [],
   "source": [
    "with Apps.init() as apps:\n",
    "    apps.where(\n",
    "        lambda app: not app.application_metadata[\".dataTypes.[]\", :].some(\n",
    "            lambda dataType: dataType[\".id\"] == \"ref-data-as-pdf\"\n",
    "        )\n",
    "        and app.application_metadata[\".dataTypes.[]\", :].some(lambda dataType: dataType[\".enablePdfCreation\"] == True)\n",
    "    ).select({\"Backend version\": lambda app: app.backend_version}).table()"
   ]
  }
 ],
 "metadata": {
  "kernelspec": {
   "display_name": "Python 3 (ipykernel)",
   "language": "python",
   "name": "python3"
  },
  "language_info": {
   "codemirror_mode": {
    "name": "ipython",
    "version": 3
   },
   "file_extension": ".py",
   "mimetype": "text/x-python",
   "name": "python",
   "nbconvert_exporter": "python",
   "pygments_lexer": "ipython3",
   "version": "3.13.1"
  },
  "widgets": {
   "application/vnd.jupyter.widget-state+json": {
    "state": {},
    "version_major": 2,
    "version_minor": 0
   }
  }
 },
 "nbformat": 4,
 "nbformat_minor": 5
}
