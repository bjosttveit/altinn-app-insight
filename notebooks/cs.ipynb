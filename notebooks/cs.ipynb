{
 "cells": [
  {
   "cell_type": "markdown",
   "id": "f592f75c-f84f-4e8f-a7dd-b140e6b2672d",
   "metadata": {
    "jp-MarkdownHeadingCollapsed": true
   },
   "source": [
    "# Setup"
   ]
  },
  {
   "cell_type": "code",
   "execution_count": null,
   "id": "f741a49a-351c-40e5-bf21-ddb15dd4aaa8",
   "metadata": {},
   "outputs": [],
   "source": [
    "%matplotlib ipympl\n",
    "import matplotlib.pyplot\n",
    "\n",
    "matplotlib.pyplot.ioff()\n",
    "\n",
    "from package.apps import Apps"
   ]
  },
  {
   "cell_type": "markdown",
   "id": "fa3cafe8-50bd-49b1-8d38-4333ddaf4545",
   "metadata": {},
   "source": [
    "# Queries"
   ]
  },
  {
   "cell_type": "markdown",
   "id": "3124198a-248b-435b-8d89-ee509d10f9ee",
   "metadata": {},
   "source": [
    "## Apps setting both CustomTextKey and Description in a ValidationIssue"
   ]
  },
  {
   "cell_type": "code",
   "execution_count": null,
   "id": "2b72226b-6d4c-430b-8a5c-faded10a0dd6",
   "metadata": {},
   "outputs": [],
   "source": [
    "with Apps.init() as apps:\n",
    "    apps.select(\n",
    "        {\n",
    "            \"Validation issues\": lambda app: app.cs.flat_map(\n",
    "                lambda cs: cs.object_creations(type=\"ValidationIssue\", fields=[\"CustomTextKey\", \"Description\"])\n",
    "            )\n",
    "        }\n",
    "    ).where(lambda app: app[\"Validation issues\"].length > 0).table()"
   ]
  },
  {
   "cell_type": "markdown",
   "id": "77fc2c54-b8fd-43e9-b333-eaec424c76d6",
   "metadata": {},
   "source": [
    "## IFormDataValidator.HasRelevantChanges"
   ]
  },
  {
   "cell_type": "code",
   "execution_count": null,
   "id": "e3b9d32c-1770-4076-b395-0c025357cc34",
   "metadata": {},
   "outputs": [],
   "source": [
    "with Apps.init() as apps:\n",
    "    apps.where(lambda app: app.env == \"prod\").select(\n",
    "        {\n",
    "            \"HasRelevantChanges\": lambda app: app.cs.flat_map(\n",
    "                lambda cs: cs.class_declarations(implements=[\"IFormDataValidator\"])\n",
    "            ).flat_map(\n",
    "                lambda formDataValidator: formDataValidator.method_declarations(\n",
    "                    name=\"HasRelevantChanges\", returns=\"bool\", modifiers=[\"public\"]\n",
    "                )\n",
    "            )\n",
    "        }\n",
    "    ).where(lambda app: app[\"HasRelevantChanges\"].length > 0).table()"
   ]
  }
 ],
 "metadata": {
  "kernelspec": {
   "display_name": "Python 3 (ipykernel)",
   "language": "python",
   "name": "python3"
  },
  "language_info": {
   "codemirror_mode": {
    "name": "ipython",
    "version": 3
   },
   "file_extension": ".py",
   "mimetype": "text/x-python",
   "name": "python",
   "nbconvert_exporter": "python",
   "pygments_lexer": "ipython3",
   "version": "3.13.1"
  },
  "widgets": {
   "application/vnd.jupyter.widget-state+json": {
    "state": {},
    "version_major": 2,
    "version_minor": 0
   }
  }
 },
 "nbformat": 4,
 "nbformat_minor": 5
}
