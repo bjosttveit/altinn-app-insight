


get_ipython().run_line_magic("matplotlib", " ipympl")
import matplotlib, matplotlib.pyplot
matplotlib.pyplot.ioff()

import sys
sys.path.append("..")

from pathlib import Path
from analyze import Apps

cache_dir = Path("../data")








with Apps.init(cache_dir) as apps:
    apps.where(lambda app: app.env == "prod" and app.application_metadata[".onEntry.show"] not in [None, 'select-instance', 'new-instance']) \
    .select({"On entry": lambda app: (app.application_metadata[".onEntry.show"])}) \
    .table()






with Apps.init(cache_dir) as apps:
    apps.where(
        lambda app: app.env == "prod" \
        and app.application_metadata[".onEntry.show"] not in [None, 'select-instance', 'new-instance'] \
        and app.application_metadata[".dataTypes.[].appLogic.allowAnonymousOnStateless", :].some(lambda value: value == True)) \
    .select({
        "On entry": lambda app: app.application_metadata[".onEntry.show"],
        "Anonymous dataTypes": lambda app: app.application_metadata[".dataTypes.[]", :]
        .filter(lambda dataType: dataType[".appLogic.allowAnonymousOnStateless"] == True)
        .map(lambda dataType: dataType[".id"])
        .reduce(lambda ids, id: f"{ids}, {id}")
    }) \
    .table()




