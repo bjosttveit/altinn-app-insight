{
 "cells": [
  {
   "cell_type": "markdown",
   "id": "c33559aa-0030-4412-ae26-fdacf937ceba",
   "metadata": {
    "jp-MarkdownHeadingCollapsed": true
   },
   "source": [
    "# Setup"
   ]
  },
  {
   "cell_type": "code",
   "execution_count": null,
   "id": "3223c0d5-2e65-4861-abfe-be727d67c64d",
   "metadata": {},
   "outputs": [],
   "source": [
    "%matplotlib ipympl\n",
    "import matplotlib.pyplot\n",
    "\n",
    "matplotlib.pyplot.ioff()\n",
    "\n",
    "from package.apps import Apps"
   ]
  },
  {
   "cell_type": "markdown",
   "id": "a63bfd47-d3c8-435c-bc0e-f5fc3091390e",
   "metadata": {},
   "source": [
    "# Queries"
   ]
  },
  {
   "cell_type": "markdown",
   "id": "edc527c9-add3-4f48-a285-13234b9611e6",
   "metadata": {},
   "source": [
    "## Apps using IValidator"
   ]
  },
  {
   "cell_type": "code",
   "execution_count": null,
   "id": "d73e0e0e-21e0-4b80-9948-085064f9f1fe",
   "metadata": {},
   "outputs": [],
   "source": [
    "with Apps.init() as apps:\n",
    "    apps.select(\n",
    "        {\n",
    "            \"IValidators\": lambda app: app.program_cs.custom_app_services(interface_name=\"IValidator\").map(\n",
    "                lambda class_name: app.cs.flat_map(\n",
    "                    lambda cs: cs.class_declarations(name=class_name, implements=\"IValidator\")\n",
    "                ).first\n",
    "            )\n",
    "        }\n",
    "    ).where(lambda app: app[\"IValidators\"].length > 0).table()"
   ]
  },
  {
   "cell_type": "markdown",
   "id": "1d8eef00-14e6-4e26-9be2-9d5095c3879e",
   "metadata": {},
   "source": [
    "## Apps in prod using IFormDataValidator"
   ]
  },
  {
   "cell_type": "code",
   "execution_count": null,
   "id": "ff82044a-26f6-4bda-bc65-b5fc2ff54add",
   "metadata": {},
   "outputs": [],
   "source": [
    "with Apps.init() as apps:\n",
    "    apps.where(lambda app: app.env == \"prod\").select(\n",
    "        {\"IFormDataValidators\": lambda app: app.program_cs.custom_app_services(interface_name=\"IFormDataValidator\")}\n",
    "    ).where(lambda app: app[\"IFormDataValidators\"].length > 0).table()"
   ]
  },
  {
   "cell_type": "markdown",
   "id": "7ab4ba88-e317-4c5d-9953-72fb5fd27e9f",
   "metadata": {},
   "source": [
    "## Apps using IPdfFormatter"
   ]
  },
  {
   "cell_type": "code",
   "execution_count": null,
   "id": "dc57a174-8258-43e8-83bc-1e167965f3eb",
   "metadata": {},
   "outputs": [],
   "source": [
    "with Apps.init() as apps:\n",
    "    apps.where(lambda app: app.env == \"prod\").select(\n",
    "        {\n",
    "            \"Frontend version\": lambda app: app.frontend_version,\n",
    "            \"IPdfFormatters\": lambda app: app.program_cs.custom_app_services(interface_name=\"IPdfFormatter\").map(\n",
    "                lambda class_name: app.cs.flat_map(\n",
    "                    lambda cs: cs.class_declarations(name=class_name, implements=\"IPdfFormatter\")\n",
    "                ).first\n",
    "            ),\n",
    "        }\n",
    "    ).where(lambda app: app[\"IPdfFormatters\"].length > 0).order_by(\n",
    "        lambda app: (app[\"Frontend version\"], app.org), reverse=True\n",
    "    ).table()"
   ]
  }
 ],
 "metadata": {
  "kernelspec": {
   "display_name": "Python 3 (ipykernel)",
   "language": "python",
   "name": "python3"
  },
  "language_info": {
   "codemirror_mode": {
    "name": "ipython",
    "version": 3
   },
   "file_extension": ".py",
   "mimetype": "text/x-python",
   "name": "python",
   "nbconvert_exporter": "python",
   "pygments_lexer": "ipython3",
   "version": "3.13.1"
  },
  "widgets": {
   "application/vnd.jupyter.widget-state+json": {
    "state": {},
    "version_major": 2,
    "version_minor": 0
   }
  }
 },
 "nbformat": 4,
 "nbformat_minor": 5
}
