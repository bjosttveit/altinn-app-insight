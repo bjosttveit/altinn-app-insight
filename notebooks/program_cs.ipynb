{
 "cells": [
  {
   "cell_type": "markdown",
   "id": "c33559aa-0030-4412-ae26-fdacf937ceba",
   "metadata": {
    "jp-MarkdownHeadingCollapsed": true
   },
   "source": [
    "# Setup"
   ]
  },
  {
   "cell_type": "code",
   "execution_count": 1,
   "id": "3223c0d5-2e65-4861-abfe-be727d67c64d",
   "metadata": {},
   "outputs": [],
   "source": [
    "%matplotlib ipympl\n",
    "import matplotlib, matplotlib.pyplot\n",
    "matplotlib.pyplot.ioff()\n",
    "\n",
    "import sys\n",
    "sys.path.append(\"..\")\n",
    "\n",
    "from pathlib import Path\n",
    "from analyze import Apps\n",
    "\n",
    "apps_dir = Path(\"../data\")"
   ]
  },
  {
   "cell_type": "markdown",
   "id": "a63bfd47-d3c8-435c-bc0e-f5fc3091390e",
   "metadata": {},
   "source": [
    "# Queries"
   ]
  },
  {
   "cell_type": "markdown",
   "id": "edc527c9-add3-4f48-a285-13234b9611e6",
   "metadata": {},
   "source": [
    "## Apps using IValidator"
   ]
  },
  {
   "cell_type": "code",
   "execution_count": 21,
   "id": "d73e0e0e-21e0-4b80-9948-085064f9f1fe",
   "metadata": {},
   "outputs": [
    {
     "data": {
      "text/html": [
       "<table>\n",
       "<thead>\n",
       "<tr><th>Env  </th><th>Org  </th><th>App                        </th><th>IValidators  </th></tr>\n",
       "</thead>\n",
       "<tbody>\n",
       "<tr><td>tt02 </td><td>brg  </td><td>aarsregnskap-bank-202404   </td><td>TaskValidator</td></tr>\n",
       "<tr><td>tt02 </td><td>brg  </td><td>aarsregnskap-funk-202405   </td><td>TaskValidator</td></tr>\n",
       "<tr><td>tt02 </td><td>brg  </td><td>aarsregnskap-ideelle-202402</td><td>TaskValidator</td></tr>\n",
       "<tr><td>tt02 </td><td>brg  </td><td>aarsregnskap-liv-202404    </td><td>TaskValidator</td></tr>\n",
       "<tr><td>tt02 </td><td>brg  </td><td>aarsregnskap-pensjon-202404</td><td>TaskValidator</td></tr>\n",
       "<tr><td>tt02 </td><td>brg  </td><td>aarsregnskap-skade-202404  </td><td>TaskValidator</td></tr>\n",
       "<tr><td>tt02 </td><td>brg  </td><td>aarsregnskap-vanlig-202406 </td><td>TaskValidator</td></tr>\n",
       "<tr><td>tt02 </td><td>brg  </td><td>aarsregnskap-vpfo-202405   </td><td>TaskValidator</td></tr>\n",
       "</tbody>\n",
       "</table>"
      ]
     },
     "metadata": {},
     "output_type": "display_data"
    },
    {
     "name": "stdout",
     "output_type": "stream",
     "text": [
      "Count: 8\n"
     ]
    }
   ],
   "source": [
    "with Apps.init(apps_dir) as apps:\n",
    "    apps.where(lambda app: app.program_cs[r\"\\.AddTransient<IValidator,\"]) \\\n",
    "    .select({\"IValidators\": lambda app: app.program_cs[r\"\\.AddTransient<IValidator,\\s*([^>]+)>\", 1, :]}) \\\n",
    "    .table()"
   ]
  },
  {
   "cell_type": "markdown",
   "id": "1d8eef00-14e6-4e26-9be2-9d5095c3879e",
   "metadata": {},
   "source": [
    "## Apps in prod using IFormDataValidator"
   ]
  },
  {
   "cell_type": "code",
   "execution_count": 23,
   "id": "ff82044a-26f6-4bda-bc65-b5fc2ff54add",
   "metadata": {},
   "outputs": [
    {
     "data": {
      "text/html": [
       "<table>\n",
       "<thead>\n",
       "<tr><th>Env  </th><th>Org   </th><th>App                           </th><th>IFormDataValidators                                                                                                                  </th></tr>\n",
       "</thead>\n",
       "<tbody>\n",
       "<tr><td>prod </td><td>krt   </td><td>krt-1003a-1                   </td><td>InstanceValidator                                                                                                                    </td></tr>\n",
       "<tr><td>prod </td><td>krt   </td><td>krt-1004a-1                   </td><td>InstanceValidator                                                                                                                    </td></tr>\n",
       "<tr><td>prod </td><td>krt   </td><td>krt-1007a-1                   </td><td>FormDataValidator                                                                                                                    </td></tr>\n",
       "<tr><td>prod </td><td>krt   </td><td>krt-1012a-1                   </td><td>InstanceValidator                                                                                                                    </td></tr>\n",
       "<tr><td>prod </td><td>krt   </td><td>krt-1038a-1                   </td><td>FormDataValidator                                                                                                                    </td></tr>\n",
       "<tr><td>prod </td><td>krt   </td><td>krt-1124a-1                   </td><td>InstanceValidator                                                                                                                    </td></tr>\n",
       "<tr><td>prod </td><td>krt   </td><td>krt-1177a-1                   </td><td>InstanceValidator                                                                                                                    </td></tr>\n",
       "<tr><td>prod </td><td>krt   </td><td>krt-1185a-1                   </td><td>FormDataValidator                                                                                                                    </td></tr>\n",
       "<tr><td>prod </td><td>krt   </td><td>krt-1189a-1                   </td><td>InstanceValidator                                                                                                                    </td></tr>\n",
       "<tr><td>prod </td><td>krt   </td><td>krt-1250a-1                   </td><td>Validator                                                                                                                            </td></tr>\n",
       "<tr><td>prod </td><td>krt   </td><td>krt-3005a-1                   </td><td>InstanceValidator                                                                                                                    </td></tr>\n",
       "<tr><td>prod </td><td>krt   </td><td>krt-3010a-1                   </td><td>InstanceValidator                                                                                                                    </td></tr>\n",
       "<tr><td>prod </td><td>krt   </td><td>krt-3011a-1                   </td><td>InstanceValidator                                                                                                                    </td></tr>\n",
       "<tr><td>prod </td><td>lt    </td><td>digital-compliance            </td><td>AttachmentValidator                                                                                                                  </td></tr>\n",
       "<tr><td>prod </td><td>lt    </td><td>flight-hours                  </td><td>LineOfSightValidator, OperationPermitValidator                                                                                       </td></tr>\n",
       "<tr><td>prod </td><td>lt    </td><td>operating-permit              </td><td>MaximumHeightValidator, SsnValidator                                                                                                 </td></tr>\n",
       "<tr><td>prod </td><td>lt    </td><td>operational-declaration       </td><td>CMarkingValidator                                                                                                                    </td></tr>\n",
       "<tr><td>prod </td><td>hmrhf </td><td>newsamhandlingsavvik          </td><td>FormDataValidator                                                                                                                    </td></tr>\n",
       "<tr><td>prod </td><td>dsb   </td><td>bekymring-forbrukertjenester  </td><td>FormDataValidator                                                                                                                    </td></tr>\n",
       "<tr><td>prod </td><td>dsb   </td><td>brannaarsak                   </td><td>FormDataValidator                                                                                                                    </td></tr>\n",
       "<tr><td>prod </td><td>dsb   </td><td>elvirksomhet                  </td><td>FormDataValidator                                                                                                                    </td></tr>\n",
       "<tr><td>prod </td><td>dsb   </td><td>farligstoff                   </td><td>FormDataValidator                                                                                                                    </td></tr>\n",
       "<tr><td>prod </td><td>dsb   </td><td>meldeplikt-forbrukertjenester </td><td>FormDataValidator                                                                                                                    </td></tr>\n",
       "<tr><td>prod </td><td>dsb   </td><td>melding-om-elulykke           </td><td>FormDataValidator                                                                                                                    </td></tr>\n",
       "<tr><td>prod </td><td>dsb   </td><td>melding-om-sikkerhetsraadgiver</td><td>FormDataValidator                                                                                                                    </td></tr>\n",
       "<tr><td>prod </td><td>dsb   </td><td>regulerte-yrker               </td><td>FormDataValidator                                                                                                                    </td></tr>\n",
       "<tr><td>prod </td><td>dsb   </td><td>siv-1001-reiseregning         </td><td>FormDataValidator                                                                                                                    </td></tr>\n",
       "<tr><td>prod </td><td>dsb   </td><td>siv-1002-personopplysninger   </td><td>FormDataValidator                                                                                                                    </td></tr>\n",
       "<tr><td>prod </td><td>dsb   </td><td>siv-1004-naeringsbidrag       </td><td>FormDataValidator                                                                                                                    </td></tr>\n",
       "<tr><td>prod </td><td>dsb   </td><td>siv-1006-vaksine              </td><td>FormDataValidator                                                                                                                    </td></tr>\n",
       "<tr><td>prod </td><td>dsb   </td><td>siv-1008-tapt-inntekt         </td><td>FormDataValidator                                                                                                                    </td></tr>\n",
       "<tr><td>prod </td><td>dsb   </td><td>siv-1011-stoette              </td><td>FormDataValidator                                                                                                                    </td></tr>\n",
       "<tr><td>prod </td><td>dsb   </td><td>siv-1012-klage                </td><td>FormDataValidator                                                                                                                    </td></tr>\n",
       "<tr><td>prod </td><td>dsb   </td><td>siv-1014-fritak               </td><td>FormDataValidator                                                                                                                    </td></tr>\n",
       "<tr><td>prod </td><td>dsb   </td><td>statsforvalter-tilsyn-kommuner</td><td>FormDataValidator                                                                                                                    </td></tr>\n",
       "<tr><td>prod </td><td>dsb   </td><td>uhell-med-eksplosiver         </td><td>FormDataValidator                                                                                                                    </td></tr>\n",
       "<tr><td>prod </td><td>dsb   </td><td>uhell-med-fyrverkeri          </td><td>FormDataValidator                                                                                                                    </td></tr>\n",
       "<tr><td>prod </td><td>dsb   </td><td>uhell-transport-av-farlig-gods</td><td>FormDataValidator                                                                                                                    </td></tr>\n",
       "<tr><td>prod </td><td>dsb   </td><td>uhell-virksomhet-farlig-stoff </td><td>FormDataValidator                                                                                                                    </td></tr>\n",
       "<tr><td>prod </td><td>tra   </td><td>egenerklaering                </td><td>FormDataValidator                                                                                                                    </td></tr>\n",
       "<tr><td>prod </td><td>dat   </td><td>bemanning-aarligmelding       </td><td>FormDataValidator                                                                                                                    </td></tr>\n",
       "<tr><td>prod </td><td>dat   </td><td>bemanning-varseltilbakekalling</td><td>FormDataValidator                                                                                                                    </td></tr>\n",
       "<tr><td>prod </td><td>dat   </td><td>yrkeskvalifikasjon-soknad     </td><td>DatoValidator, VirksomhetValidator                                                                                                   </td></tr>\n",
       "<tr><td>prod </td><td>brg   </td><td>jegerproveinstruktor-au-040924</td><td>FormDataValidator                                                                                                                    </td></tr>\n",
       "<tr><td>prod </td><td>brg   </td><td>jegerproveinstruktor-op-050924</td><td>FormDataValidator                                                                                                                    </td></tr>\n",
       "<tr><td>prod </td><td>brg   </td><td>lovregulerte-yrker            </td><td>ValidationHandler                                                                                                                    </td></tr>\n",
       "<tr><td>prod </td><td>brg   </td><td>rrh-innrapportering           </td><td>FormDataRettighetshaverValidator                                                                                                     </td></tr>\n",
       "<tr><td>prod </td><td>brg   </td><td>stottetildeling-en            </td><td>FormDataValidator                                                                                                                    </td></tr>\n",
       "<tr><td>prod </td><td>brg   </td><td>stottetildeling-ny            </td><td>ManualStoetteMottakerDataValidator, CsvDataValidator                                                                                 </td></tr>\n",
       "<tr><td>prod </td><td>digdir</td><td>be-om-api-nokkel              </td><td>FormDataValidator                                                                                                                    </td></tr>\n",
       "<tr><td>prod </td><td>digdir</td><td>bli-tjenesteeier              </td><td>FormDataValidator                                                                                                                    </td></tr>\n",
       "<tr><td>prod </td><td>digdir</td><td>soknad-om-stimulabmidler      </td><td>FormDataValidator                                                                                                                    </td></tr>\n",
       "<tr><td>prod </td><td>nb    </td><td>soknad-eiendomsmegler         </td><td>ClaimantsValidator                                                                                                                   </td></tr>\n",
       "<tr><td>prod </td><td>nb    </td><td>utbetaling-bankinnskudd       </td><td>ValidateClaimantPaymentAmountChange, ValidateClaimantsPaymentAmountChange                                                            </td></tr>\n",
       "<tr><td>prod </td><td>nb    </td><td>utbetaling-eiendomsmidler     </td><td>ValidateClaimantIdChange, ValidateClaimantsIdChange                                                                                  </td></tr>\n",
       "<tr><td>prod </td><td>dihe  </td><td>omsetningsoppgave-for-alkohol </td><td>DeadlineFormDataValidator                                                                                                            </td></tr>\n",
       "<tr><td>prod </td><td>dihe  </td><td>soknad-bevillinger            </td><td>ContactInformationValidator, PersonerMedInnflytelseValidator, StyrerOgStedfortrederProeveValidator, StyrerOgStedfortrederNINValidator</td></tr>\n",
       "<tr><td>prod </td><td>mat   </td><td>fisk-meldepliktige-hendelser  </td><td>OmfangValidator                                                                                                                      </td></tr>\n",
       "<tr><td>prod </td><td>mat   </td><td>mattilsynet-dyrepleier        </td><td>BiarbeidsomraadeValidator, BiarbeidsstedValidator                                                                                    </td></tr>\n",
       "<tr><td>prod </td><td>mat   </td><td>mattilsynet-gjoedsel          </td><td>CountryRepeatingGroupValidator, BruksomraadeJordbrukValidator                                                                        </td></tr>\n",
       "<tr><td>prod </td><td>ssb   </td><td>ra0174-01                     </td><td>FormDataValidator                                                                                                                    </td></tr>\n",
       "<tr><td>prod </td><td>ssb   </td><td>ra0255-01                     </td><td>FormDataValidator                                                                                                                    </td></tr>\n",
       "<tr><td>prod </td><td>ssb   </td><td>ra0351-01                     </td><td>FormDataValidator                                                                                                                    </td></tr>\n",
       "<tr><td>prod </td><td>ssb   </td><td>ra0419-02                     </td><td>FormDataValidator                                                                                                                    </td></tr>\n",
       "<tr><td>prod </td><td>ssb   </td><td>ra0481-01                     </td><td>FormDataValidator, EnkeltfelterValidator                                                                                             </td></tr>\n",
       "<tr><td>prod </td><td>ssb   </td><td>ra0563-01                     </td><td>FormDataValidator                                                                                                                    </td></tr>\n",
       "<tr><td>prod </td><td>ssb   </td><td>ra0571-01                     </td><td>FormDataValidator                                                                                                                    </td></tr>\n",
       "<tr><td>prod </td><td>ssb   </td><td>ra0689-01                     </td><td>FormDataValidator                                                                                                                    </td></tr>\n",
       "<tr><td>prod </td><td>ssb   </td><td>ra0745-01                     </td><td>FormDataValidator                                                                                                                    </td></tr>\n",
       "<tr><td>prod </td><td>ssb   </td><td>ra0760-01                     </td><td>FormDataValidator                                                                                                                    </td></tr>\n",
       "<tr><td>prod </td><td>ssb   </td><td>ra0775-01                     </td><td>FormDataValidator, EnkeltfelterValidator                                                                                             </td></tr>\n",
       "<tr><td>prod </td><td>ssb   </td><td>ra0785-01                     </td><td>FormDataValidator                                                                                                                    </td></tr>\n",
       "<tr><td>prod </td><td>ssb   </td><td>ra0795-01                     </td><td>FormDataValidator                                                                                                                    </td></tr>\n",
       "<tr><td>prod </td><td>ssb   </td><td>ra0806-01                     </td><td>FormDataValidator                                                                                                                    </td></tr>\n",
       "<tr><td>prod </td><td>ssb   </td><td>ra0824-01                     </td><td>FormDataValidator                                                                                                                    </td></tr>\n",
       "<tr><td>prod </td><td>ssb   </td><td>ra0825-01                     </td><td>FormDataValidator                                                                                                                    </td></tr>\n",
       "<tr><td>prod </td><td>ssb   </td><td>ra0826-01                     </td><td>FormDataValidator                                                                                                                    </td></tr>\n",
       "<tr><td>prod </td><td>ssb   </td><td>ra0827-01                     </td><td>FormDataValidator                                                                                                                    </td></tr>\n",
       "<tr><td>prod </td><td>ssb   </td><td>ra0828-01                     </td><td>FormDataValidator                                                                                                                    </td></tr>\n",
       "<tr><td>prod </td><td>ssb   </td><td>ra0829-01                     </td><td>FormDataValidator                                                                                                                    </td></tr>\n",
       "<tr><td>prod </td><td>ssb   </td><td>ra0830-01                     </td><td>FormDataValidator                                                                                                                    </td></tr>\n",
       "<tr><td>prod </td><td>ssb   </td><td>ra0831-01                     </td><td>FormDataValidator                                                                                                                    </td></tr>\n",
       "<tr><td>prod </td><td>ssb   </td><td>ra0832-01                     </td><td>FormDataValidator                                                                                                                    </td></tr>\n",
       "<tr><td>prod </td><td>ssb   </td><td>ra0833-01                     </td><td>FormDataValidator                                                                                                                    </td></tr>\n",
       "<tr><td>prod </td><td>ssb   </td><td>ra0834-01                     </td><td>FormDataValidator                                                                                                                    </td></tr>\n",
       "<tr><td>prod </td><td>ssb   </td><td>ra0835-01                     </td><td>FormDataValidator                                                                                                                    </td></tr>\n",
       "<tr><td>prod </td><td>ssb   </td><td>ra0836-01                     </td><td>FormDataValidator                                                                                                                    </td></tr>\n",
       "<tr><td>prod </td><td>ssb   </td><td>ra0837-01                     </td><td>FormDataValidator                                                                                                                    </td></tr>\n",
       "<tr><td>prod </td><td>ssb   </td><td>ra0838-01                     </td><td>FormDataValidator                                                                                                                    </td></tr>\n",
       "<tr><td>prod </td><td>ssb   </td><td>ra0842-01                     </td><td>FormDataValidator                                                                                                                    </td></tr>\n",
       "<tr><td>prod </td><td>ssb   </td><td>ra1100-01                     </td><td>FormDataValidator                                                                                                                    </td></tr>\n",
       "<tr><td>prod </td><td>ssb   </td><td>ra1403-01                     </td><td>FormDataValidator                                                                                                                    </td></tr>\n",
       "<tr><td>prod </td><td>ssb   </td><td>ra1407-01                     </td><td>FormDataValidator                                                                                                                    </td></tr>\n",
       "<tr><td>prod </td><td>ssb   </td><td>ra3001-01                     </td><td>FormDataValidator, FormDataValidator                                                                                                 </td></tr>\n",
       "<tr><td>prod </td><td>udir  </td><td>digilaer-registrering-altinn3 </td><td>FormDataValidator                                                                                                                    </td></tr>\n",
       "<tr><td>prod </td><td>valg  </td><td>valgansvarlige                </td><td>EmailCustomValidator, SsnValidator, PhoneValidator                                                                                   </td></tr>\n",
       "<tr><td>prod </td><td>pat   </td><td>correspondence                </td><td>FormDataValidator                                                                                                                    </td></tr>\n",
       "<tr><td>prod </td><td>pat   </td><td>ep-validering                 </td><td>FormDataValidator                                                                                                                    </td></tr>\n",
       "<tr><td>prod </td><td>pat   </td><td>forundersokelse               </td><td>FormDataValidator                                                                                                                    </td></tr>\n",
       "<tr><td>prod </td><td>pat   </td><td>klagesaker-op                 </td><td>FormDataValidator                                                                                                                    </td></tr>\n",
       "<tr><td>prod </td><td>tad   </td><td>eur1                          </td><td>FormDataValidator                                                                                                                    </td></tr>\n",
       "</tbody>\n",
       "</table>"
      ]
     },
     "metadata": {},
     "output_type": "display_data"
    },
    {
     "name": "stdout",
     "output_type": "stream",
     "text": [
      "Count: 101\n"
     ]
    }
   ],
   "source": [
    "with Apps.init(apps_dir) as apps:\n",
    "    apps.where(lambda app: app.env == \"prod\" and app.program_cs[r\"\\.AddTransient<IFormDataValidator,\"]) \\\n",
    "    .select({\"IFormDataValidators\": lambda app: app.program_cs[r\"\\.AddTransient<IFormDataValidator,\\s*([^>]+)>\", 1, :]}) \\\n",
    "    .table()"
   ]
  }
 ],
 "metadata": {
  "kernelspec": {
   "display_name": "Python 3 (ipykernel)",
   "language": "python",
   "name": "python3"
  },
  "language_info": {
   "codemirror_mode": {
    "name": "ipython",
    "version": 3
   },
   "file_extension": ".py",
   "mimetype": "text/x-python",
   "name": "python",
   "nbconvert_exporter": "python",
   "pygments_lexer": "ipython3",
   "version": "3.13.1"
  },
  "widgets": {
   "application/vnd.jupyter.widget-state+json": {
    "state": {},
    "version_major": 2,
    "version_minor": 0
   }
  }
 },
 "nbformat": 4,
 "nbformat_minor": 5
}
