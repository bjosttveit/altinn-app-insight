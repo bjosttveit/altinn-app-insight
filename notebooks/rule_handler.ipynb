{
 "cells": [
  {
   "cell_type": "markdown",
   "id": "6c73c89a-7f5c-45e3-b35f-009d30a692fd",
   "metadata": {
    "jp-MarkdownHeadingCollapsed": true
   },
   "source": [
    "# Setup"
   ]
  },
  {
   "cell_type": "code",
   "execution_count": null,
   "id": "e2332f3e-b19c-4013-b59a-b7b9557307fc",
   "metadata": {
    "editable": true,
    "slideshow": {
     "slide_type": ""
    },
    "tags": []
   },
   "outputs": [],
   "source": [
    "%matplotlib ipympl\n",
    "import matplotlib.pyplot\n",
    "\n",
    "matplotlib.pyplot.ioff()\n",
    "\n",
    "from package.apps import Apps"
   ]
  },
  {
   "cell_type": "markdown",
   "id": "cd4080b4-066b-4179-b6ea-1c708609d53f",
   "metadata": {},
   "source": [
    "# Queries"
   ]
  },
  {
   "cell_type": "markdown",
   "id": "ad4e24b4-7382-42dc-9d6c-7b395296fd9d",
   "metadata": {},
   "source": [
    "## Conditional rendering rules"
   ]
  },
  {
   "cell_type": "code",
   "execution_count": null,
   "id": "a127b1ee-ee23-4517-ba0b-381d0e3d63bb",
   "metadata": {},
   "outputs": [],
   "source": [
    "with Apps.init() as apps:\n",
    "    apps.where(lambda app: app.org == \"ttd\").select(\n",
    "        {\n",
    "            \"Frontend version\": lambda app: app.frontend_version,\n",
    "            \"Conditional rendering rules\": lambda app: app.rule_configurations.flat_map(\n",
    "                lambda rule_configuration: rule_configuration[\".data.conditionalRendering.[]?\", :].map(\n",
    "                    lambda conditional_rule: (\n",
    "                        conditional_rule,\n",
    "                        rule_configuration.layout_set.rule_handler.conditional_rules(\n",
    "                            name=conditional_rule[\".selectedFunction\"]\n",
    "                        ).first,\n",
    "                    )\n",
    "                ),\n",
    "            ),\n",
    "        }\n",
    "    ).where(lambda app: app[\"Conditional rendering rules\"].length > 0).table()"
   ]
  },
  {
   "cell_type": "markdown",
   "id": "97589008-8aad-4e52-a8a1-ab9a7cd5291d",
   "metadata": {},
   "source": [
    "## Calculation rules"
   ]
  },
  {
   "cell_type": "code",
   "execution_count": null,
   "id": "97641b41-eea4-47bf-9ec1-d93c837901ab",
   "metadata": {},
   "outputs": [],
   "source": [
    "with Apps.init() as apps:\n",
    "    apps.where(lambda app: app.org == \"ttd\").select(\n",
    "        {\n",
    "            \"Frontend version\": lambda app: app.frontend_version,\n",
    "            \"Calculation rules\": lambda app: app.rule_configurations.flat_map(\n",
    "                lambda rule_configuration: rule_configuration[\".data.ruleConnection.[]?\", :].map(\n",
    "                    lambda rule: (\n",
    "                        rule,\n",
    "                        rule_configuration.layout_set.rule_handler.rules(name=rule[\".selectedFunction\"]).first,\n",
    "                    )\n",
    "                ),\n",
    "            ),\n",
    "        }\n",
    "    ).where(lambda app: app[\"Calculation rules\"].length > 0).table()"
   ]
  }
 ],
 "metadata": {
  "kernelspec": {
   "display_name": "Python 3 (ipykernel)",
   "language": "python",
   "name": "python3"
  },
  "language_info": {
   "codemirror_mode": {
    "name": "ipython",
    "version": 3
   },
   "file_extension": ".py",
   "mimetype": "text/x-python",
   "name": "python",
   "nbconvert_exporter": "python",
   "pygments_lexer": "ipython3",
   "version": "3.13.1"
  },
  "widgets": {
   "application/vnd.jupyter.widget-state+json": {
    "state": {},
    "version_major": 2,
    "version_minor": 0
   }
  }
 },
 "nbformat": 4,
 "nbformat_minor": 5
}
