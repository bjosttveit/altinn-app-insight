{
 "cells": [
  {
   "cell_type": "markdown",
   "id": "eb6768f9-88a6-4819-a02e-f8ee5c0529ef",
   "metadata": {
    "jp-MarkdownHeadingCollapsed": true
   },
   "source": [
    "# Setup"
   ]
  },
  {
   "cell_type": "code",
   "execution_count": 1,
   "id": "b062c487-4759-45ce-b78b-104e0d179ec7",
   "metadata": {
    "editable": true,
    "slideshow": {
     "slide_type": ""
    },
    "tags": []
   },
   "outputs": [],
   "source": [
    "%matplotlib ipympl\n",
    "import matplotlib, matplotlib.pyplot\n",
    "\n",
    "matplotlib.pyplot.ioff()\n",
    "\n",
    "from package.apps import Apps"
   ]
  },
  {
   "cell_type": "markdown",
   "id": "f6afa366-c890-4a15-9716-80e1bf3615bc",
   "metadata": {},
   "source": [
    "# Queries"
   ]
  },
  {
   "cell_type": "markdown",
   "id": "81fa08b3-b763-4fc3-b41c-9c8753c8b5dd",
   "metadata": {},
   "source": [
    "## Number of custom components"
   ]
  },
  {
   "cell_type": "code",
   "execution_count": 2,
   "id": "19288505-290c-4fa8-b1fc-9cc7a4370ee6",
   "metadata": {
    "editable": true,
    "slideshow": {
     "slide_type": ""
    },
    "tags": []
   },
   "outputs": [
    {
     "data": {
      "text/html": [
       "<table>\n",
       "<thead>\n",
       "<tr><th>Env  </th><th>Org   </th><th>App                   </th><th style=\"text-align: right;\">  Unique custom components</th></tr>\n",
       "</thead>\n",
       "<tbody>\n",
       "<tr><td>tt02 </td><td>dibk  </td><td>ig-v3                 </td><td style=\"text-align: right;\">                        10</td></tr>\n",
       "<tr><td>tt02 </td><td>dibk  </td><td>mb-v3                 </td><td style=\"text-align: right;\">                        10</td></tr>\n",
       "<tr><td>tt02 </td><td>dibk  </td><td>fa-v3                 </td><td style=\"text-align: right;\">                        10</td></tr>\n",
       "<tr><td>tt02 </td><td>dat   </td><td>byggesak-samtykke-v3  </td><td style=\"text-align: right;\">                         6</td></tr>\n",
       "<tr><td>tt02 </td><td>dibk  </td><td>innsending-planforslag</td><td style=\"text-align: right;\">                         6</td></tr>\n",
       "<tr><td>tt02 </td><td>digdir</td><td>dan-data-app          </td><td style=\"text-align: right;\">                         1</td></tr>\n",
       "</tbody>\n",
       "</table>"
      ]
     },
     "metadata": {},
     "output_type": "display_data"
    },
    {
     "name": "stdout",
     "output_type": "stream",
     "text": [
      "Count: 6\n"
     ]
    }
   ],
   "source": [
    "with Apps.init() as apps:\n",
    "    apps.where(lambda app: app.components.some(lambda component: component.type == \"Custom\")).select(\n",
    "    {\n",
    "            \"Unique custom components\": lambda app: app.components.filter(lambda component: component.type == \"Custom\")\n",
    "            .map(lambda component: component[\".tagName\"])\n",
    "            .filter(lambda tagName: tagName != None)\n",
    "            .unique()\n",
    "            .length\n",
    "        }\n",
    "    ).order_by(lambda app: (app.data[\"Unique custom components\"],), reverse=True).table()"
   ]
  },
  {
   "cell_type": "markdown",
   "id": "7ad20d2f-b1a9-461f-8a12-2d5d708e1f81",
   "metadata": {},
   "source": [
    "## Custom components per app"
   ]
  },
  {
   "cell_type": "code",
   "execution_count": 3,
   "id": "419b860d-e188-4319-89a3-23dade9f5fb4",
   "metadata": {},
   "outputs": [
    {
     "data": {
      "text/html": [
       "<table>\n",
       "<thead>\n",
       "<tr><th>Env  </th><th>Org   </th><th>App                   </th><th>Custom component tags                                                                                                                                                                                                                          </th></tr>\n",
       "</thead>\n",
       "<tbody>\n",
       "<tr><td>tt02 </td><td>dat   </td><td>byggesak-samtykke-v3  </td><td>custom-field-adresse, custom-field-data, custom-field-kommunens-saksnummer, custom-field-part-navn, custom-field-prosjekt, custom-field-telefonnummer                                                                                          </td></tr>\n",
       "<tr><td>tt02 </td><td>dibk  </td><td>fa-v3                 </td><td>custom-field-adresse, custom-field-boolean-text, custom-field-data, custom-field-kommunens-saksnummer, custom-field-prosjekt, custom-grouplist-utfall-svar-type, custom-header-text, custom-list-data, custom-subheader-text, custom-table-data</td></tr>\n",
       "<tr><td>tt02 </td><td>dibk  </td><td>ig-v3                 </td><td>custom-field-adresse, custom-field-boolean-text, custom-field-data, custom-field-kommunens-saksnummer, custom-field-prosjekt, custom-grouplist-utfall-svar-type, custom-header-text, custom-list-data, custom-subheader-text, custom-table-data</td></tr>\n",
       "<tr><td>tt02 </td><td>dibk  </td><td>innsending-planforslag</td><td>custom-field-adresse, custom-field-data, custom-field-kommunens-saksnummer, custom-header-text, custom-paragraph-text, custom-table-data                                                                                                       </td></tr>\n",
       "<tr><td>tt02 </td><td>dibk  </td><td>mb-v3                 </td><td>custom-field-adresse, custom-field-boolean-text, custom-field-data, custom-field-kommunens-saksnummer, custom-field-prosjekt, custom-grouplist-utfall-svar-type, custom-header-text, custom-list-data, custom-subheader-text, custom-table-data</td></tr>\n",
       "<tr><td>tt02 </td><td>digdir</td><td>dan-data-app          </td><td>my-component                                                                                                                                                                                                                                   </td></tr>\n",
       "</tbody>\n",
       "</table>"
      ]
     },
     "metadata": {},
     "output_type": "display_data"
    },
    {
     "name": "stdout",
     "output_type": "stream",
     "text": [
      "Count: 6\n"
     ]
    }
   ],
   "source": [
    "with Apps.init() as apps:\n",
    "    apps.where(lambda app: app.components.some(lambda component: component.type == \"Custom\")).select(\n",
    "        {\n",
    "            \"Custom component tags\": lambda app: app.components.filter(lambda component: component.type == \"Custom\")\n",
    "            .map(lambda component: component[\".tagName\"])\n",
    "            .unique()\n",
    "            .sort()\n",
    "        }\n",
    "    ).order_by(lambda app: (app.org, app.app)).table()"
   ]
  },
  {
   "cell_type": "code",
   "execution_count": null,
   "id": "fa2faa20-f0a5-4e7d-940f-1df402439e7f",
   "metadata": {},
   "outputs": [],
   "source": []
  }
 ],
 "metadata": {
  "kernelspec": {
   "display_name": "Python 3 (ipykernel)",
   "language": "python",
   "name": "python3"
  },
  "language_info": {
   "codemirror_mode": {
    "name": "ipython",
    "version": 3
   },
   "file_extension": ".py",
   "mimetype": "text/x-python",
   "name": "python",
   "nbconvert_exporter": "python",
   "pygments_lexer": "ipython3",
   "version": "3.13.1"
  },
  "widgets": {
   "application/vnd.jupyter.widget-state+json": {
    "state": {},
    "version_major": 2,
    "version_minor": 0
   }
  }
 },
 "nbformat": 4,
 "nbformat_minor": 5
}
