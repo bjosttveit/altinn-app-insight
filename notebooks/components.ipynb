{
 "cells": [
  {
   "cell_type": "markdown",
   "id": "eb6768f9-88a6-4819-a02e-f8ee5c0529ef",
   "metadata": {
    "jp-MarkdownHeadingCollapsed": true
   },
   "source": [
    "# Setup"
   ]
  },
  {
   "cell_type": "code",
   "execution_count": null,
   "id": "b062c487-4759-45ce-b78b-104e0d179ec7",
   "metadata": {
    "editable": true,
    "slideshow": {
     "slide_type": ""
    },
    "tags": []
   },
   "outputs": [],
   "source": [
    "%matplotlib ipympl\n",
    "import matplotlib.pyplot\n",
    "\n",
    "matplotlib.pyplot.ioff()\n",
    "\n",
    "from package.apps import Apps"
   ]
  },
  {
   "cell_type": "markdown",
   "id": "f6afa366-c890-4a15-9716-80e1bf3615bc",
   "metadata": {},
   "source": [
    "# Queries"
   ]
  },
  {
   "cell_type": "markdown",
   "id": "81fa08b3-b763-4fc3-b41c-9c8753c8b5dd",
   "metadata": {},
   "source": [
    "## Number of custom components"
   ]
  },
  {
   "cell_type": "code",
   "execution_count": null,
   "id": "19288505-290c-4fa8-b1fc-9cc7a4370ee6",
   "metadata": {
    "editable": true,
    "slideshow": {
     "slide_type": ""
    },
    "tags": []
   },
   "outputs": [],
   "source": [
    "with Apps.init() as apps:\n",
    "    apps.where(lambda app: app.components.some(lambda component: component.type == \"Custom\")).select(\n",
    "        {\n",
    "            \"Unique custom components\": lambda app: app.components.filter(lambda component: component.type == \"Custom\")\n",
    "            .map(lambda component: component[\".tagName\"])\n",
    "            .filter(lambda tagName: tagName != None)\n",
    "            .unique()\n",
    "            .length\n",
    "        }\n",
    "    ).order_by(lambda app: app[\"Unique custom components\"], reverse=True).table()"
   ]
  },
  {
   "cell_type": "markdown",
   "id": "7ad20d2f-b1a9-461f-8a12-2d5d708e1f81",
   "metadata": {},
   "source": [
    "## Custom components per app"
   ]
  },
  {
   "cell_type": "code",
   "execution_count": null,
   "id": "419b860d-e188-4319-89a3-23dade9f5fb4",
   "metadata": {},
   "outputs": [],
   "source": [
    "with Apps.init() as apps:\n",
    "    apps.where(lambda app: app.components.some(lambda component: component.type == \"Custom\")).select(\n",
    "        {\n",
    "            \"Custom components\": lambda app: app.components.filter(lambda component: component.type == \"Custom\").map(\n",
    "                lambda component: component\n",
    "            )\n",
    "        }\n",
    "    ).order_by(lambda app: (app.org, app.app)).table()"
   ]
  },
  {
   "cell_type": "markdown",
   "id": "46f45ecd-f64f-4b55-9e63-152ce8e88da5",
   "metadata": {},
   "source": [
    "## Apps using Subform in prod"
   ]
  },
  {
   "cell_type": "code",
   "execution_count": null,
   "id": "fa2faa20-f0a5-4e7d-940f-1df402439e7f",
   "metadata": {},
   "outputs": [],
   "source": [
    "with Apps.init() as apps:\n",
    "    apps.where(\n",
    "        lambda app: app.env == \"prod\" and app.components.some(lambda component: component.type == \"Subform\")\n",
    "    ).table()"
   ]
  },
  {
   "cell_type": "markdown",
   "id": "d5623850-de6b-4d96-945d-582d9c67bd29",
   "metadata": {},
   "source": [
    "## DataModelBindings in List-component"
   ]
  },
  {
   "cell_type": "code",
   "execution_count": null,
   "id": "51e35475-4e54-4b69-befb-06cfd0c74c65",
   "metadata": {},
   "outputs": [],
   "source": [
    "with Apps.init() as apps:\n",
    "    apps.where(\n",
    "        lambda app: app.env == \"prod\" and app.components.some(lambda component: component.type == \"List\")\n",
    "    ).select(\n",
    "        {\n",
    "            \"List bindings\": lambda app: app.components.filter(lambda component: component.type == \"List\")\n",
    "            .flat_map(lambda component: component[\".dataModelBindings | keys\"])\n",
    "            .unique()\n",
    "            .sort()\n",
    "        }\n",
    "    ).table()"
   ]
  }
 ],
 "metadata": {
  "kernelspec": {
   "display_name": "Python 3 (ipykernel)",
   "language": "python",
   "name": "python3"
  },
  "language_info": {
   "codemirror_mode": {
    "name": "ipython",
    "version": 3
   },
   "file_extension": ".py",
   "mimetype": "text/x-python",
   "name": "python",
   "nbconvert_exporter": "python",
   "pygments_lexer": "ipython3",
   "version": "3.13.1"
  },
  "widgets": {
   "application/vnd.jupyter.widget-state+json": {
    "state": {},
    "version_major": 2,
    "version_minor": 0
   }
  }
 },
 "nbformat": 4,
 "nbformat_minor": 5
}
