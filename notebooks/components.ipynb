{
 "cells": [
  {
   "cell_type": "markdown",
   "id": "eb6768f9-88a6-4819-a02e-f8ee5c0529ef",
   "metadata": {
    "jp-MarkdownHeadingCollapsed": true
   },
   "source": [
    "# Setup"
   ]
  },
  {
   "cell_type": "code",
   "execution_count": null,
   "id": "b062c487-4759-45ce-b78b-104e0d179ec7",
   "metadata": {
    "editable": true,
    "slideshow": {
     "slide_type": ""
    },
    "tags": []
   },
   "outputs": [],
   "source": [
    "%matplotlib ipympl\n",
    "import matplotlib.pyplot\n",
    "\n",
    "matplotlib.pyplot.ioff()\n",
    "\n",
    "from package.apps import Apps"
   ]
  },
  {
   "cell_type": "markdown",
   "id": "f6afa366-c890-4a15-9716-80e1bf3615bc",
   "metadata": {},
   "source": [
    "# Queries"
   ]
  },
  {
   "cell_type": "markdown",
   "id": "81fa08b3-b763-4fc3-b41c-9c8753c8b5dd",
   "metadata": {},
   "source": [
    "## Number of custom components"
   ]
  },
  {
   "cell_type": "code",
   "execution_count": null,
   "id": "19288505-290c-4fa8-b1fc-9cc7a4370ee6",
   "metadata": {
    "editable": true,
    "slideshow": {
     "slide_type": ""
    },
    "tags": []
   },
   "outputs": [],
   "source": [
    "with Apps.init() as apps:\n",
    "    apps.where(lambda app: app.components.some(lambda component: component.type == \"Custom\")).select(\n",
    "        {\n",
    "            \"Unique custom components\": lambda app: app.components.filter(lambda component: component.type == \"Custom\")\n",
    "            .map(lambda component: component[\".tagName\"])\n",
    "            .filter(lambda tagName: tagName != None)\n",
    "            .unique()\n",
    "            .length\n",
    "        }\n",
    "    ).order_by(lambda app: app[\"Unique custom components\"], reverse=True).table()"
   ]
  },
  {
   "cell_type": "markdown",
   "id": "7ad20d2f-b1a9-461f-8a12-2d5d708e1f81",
   "metadata": {},
   "source": [
    "## Custom components per app"
   ]
  },
  {
   "cell_type": "code",
   "execution_count": null,
   "id": "419b860d-e188-4319-89a3-23dade9f5fb4",
   "metadata": {},
   "outputs": [],
   "source": [
    "with Apps.init() as apps:\n",
    "    apps.where(lambda app: app.components.some(lambda component: component.type == \"Custom\")).select(\n",
    "        {\n",
    "            \"Custom components\": lambda app: app.components.filter(lambda component: component.type == \"Custom\").map(\n",
    "                lambda component: component\n",
    "            )\n",
    "        }\n",
    "    ).order_by(lambda app: (app.org, app.app)).table()"
   ]
  },
  {
   "cell_type": "markdown",
   "id": "46f45ecd-f64f-4b55-9e63-152ce8e88da5",
   "metadata": {},
   "source": [
    "## Apps using Subform in prod"
   ]
  },
  {
   "cell_type": "code",
   "execution_count": null,
   "id": "fa2faa20-f0a5-4e7d-940f-1df402439e7f",
   "metadata": {},
   "outputs": [],
   "source": [
    "with Apps.init() as apps:\n",
    "    apps.where(\n",
    "        lambda app: app.env == \"prod\" and app.components.some(lambda component: component.type == \"Subform\")\n",
    "    ).table()"
   ]
  },
  {
   "cell_type": "markdown",
   "id": "d5623850-de6b-4d96-945d-582d9c67bd29",
   "metadata": {},
   "source": [
    "## DataModelBindings in List-component"
   ]
  },
  {
   "cell_type": "code",
   "execution_count": null,
   "id": "51e35475-4e54-4b69-befb-06cfd0c74c65",
   "metadata": {},
   "outputs": [],
   "source": [
    "with Apps.init() as apps:\n",
    "    apps.where(\n",
    "        lambda app: app.env == \"prod\" and app.components.some(lambda component: component.type == \"List\")\n",
    "    ).select(\n",
    "        {\n",
    "            \"List bindings\": lambda app: app.components.filter(lambda component: component.type == \"List\")\n",
    "            .flat_map(lambda component: component[\".dataModelBindings | keys\"])\n",
    "            .unique()\n",
    "            .sort()\n",
    "        }\n",
    "    ).table()"
   ]
  },
  {
   "cell_type": "markdown",
   "id": "cddd82f7-2d67-4e11-8688-1eeb550a1ecc",
   "metadata": {},
   "source": [
    "# Using multi-page"
   ]
  },
  {
   "cell_type": "code",
   "execution_count": null,
   "id": "63750652-ca9d-4ccf-b602-1815f4511ebf",
   "metadata": {},
   "outputs": [],
   "source": [
    "import re\n",
    "\n",
    "multi_page_pattern = re.compile(r\"^\\d+:.\")\n",
    "\n",
    "with Apps.init() as apps:\n",
    "    apps.select(\n",
    "        {\n",
    "            \"Components with multi-page\": lambda app: app.components.filter(\n",
    "                lambda component: component.type in [\"Group\", \"RepeatingGroup\"]\n",
    "                and component[\".children[]?\", :].some(\n",
    "                    lambda childId: re.match(multi_page_pattern, str(childId)) != None\n",
    "                )\n",
    "            )\n",
    "        }\n",
    "    ).where(lambda app: app[\"Components with multi-page\"].length > 0).table()"
   ]
  },
  {
   "cell_type": "markdown",
   "id": "d4e6b0be-cf65-4ca8-aa0e-6cc1a8cc44cb",
   "metadata": {},
   "source": [
    "## Dropdown or Multiselect using autocomplete"
   ]
  },
  {
   "cell_type": "code",
   "execution_count": null,
   "id": "5fd65d4d-678c-479d-9f9c-48c219b66148",
   "metadata": {},
   "outputs": [],
   "source": [
    "with Apps.init() as apps:\n",
    "    apps.select(\n",
    "        {\n",
    "            \"Autocomplete\": lambda app: app.components.filter(\n",
    "                lambda component: component.type in [\"MultipleSelect\", \"Dropdown\"]\n",
    "                and component[\".autocomplete\"] != None\n",
    "            )\n",
    "        }\n",
    "    ).where(lambda app: app[\"Autocomplete\"].length > 0).table()"
   ]
  },
  {
   "cell_type": "markdown",
   "id": "e316954b-649f-498a-b6e1-cd95001c14c4",
   "metadata": {},
   "source": [
    "## Apps using SimpleTable"
   ]
  },
  {
   "cell_type": "code",
   "execution_count": null,
   "id": "d6ede0a5-cf35-4014-9827-e83d42fad4fd",
   "metadata": {},
   "outputs": [],
   "source": [
    "with Apps.init() as apps:\n",
    "    apps.where(lambda app: app.components.some(lambda component: component.type == \"SimpleTable\")).table()"
   ]
  }
 ],
 "metadata": {
  "kernelspec": {
   "display_name": "Python 3 (ipykernel)",
   "language": "python",
   "name": "python3"
  },
  "language_info": {
   "codemirror_mode": {
    "name": "ipython",
    "version": 3
   },
   "file_extension": ".py",
   "mimetype": "text/x-python",
   "name": "python",
   "nbconvert_exporter": "python",
   "pygments_lexer": "ipython3",
   "version": "3.13.1"
  },
  "widgets": {
   "application/vnd.jupyter.widget-state+json": {
    "state": {},
    "version_major": 2,
    "version_minor": 0
   }
  }
 },
 "nbformat": 4,
 "nbformat_minor": 5
}
