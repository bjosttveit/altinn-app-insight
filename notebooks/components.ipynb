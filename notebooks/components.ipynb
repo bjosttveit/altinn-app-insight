{
 "cells": [
  {
   "cell_type": "markdown",
   "id": "eb6768f9-88a6-4819-a02e-f8ee5c0529ef",
   "metadata": {
    "jp-MarkdownHeadingCollapsed": true
   },
   "source": [
    "# Setup"
   ]
  },
  {
   "cell_type": "code",
   "execution_count": 1,
   "id": "b062c487-4759-45ce-b78b-104e0d179ec7",
   "metadata": {},
   "outputs": [],
   "source": [
    "%matplotlib ipympl\n",
    "import matplotlib, matplotlib.pyplot\n",
    "matplotlib.pyplot.ioff()\n",
    "\n",
    "import sys\n",
    "sys.path.append(\"..\")\n",
    "\n",
    "from pathlib import Path\n",
    "from analyze import Apps\n",
    "\n",
    "cache_dir = Path(\"../data\")"
   ]
  },
  {
   "cell_type": "markdown",
   "id": "f6afa366-c890-4a15-9716-80e1bf3615bc",
   "metadata": {},
   "source": [
    "# Queries"
   ]
  },
  {
   "cell_type": "markdown",
   "id": "81fa08b3-b763-4fc3-b41c-9c8753c8b5dd",
   "metadata": {},
   "source": [
    "## Number of custom components"
   ]
  },
  {
   "cell_type": "code",
   "execution_count": 2,
   "id": "19288505-290c-4fa8-b1fc-9cc7a4370ee6",
   "metadata": {},
   "outputs": [
    {
     "data": {
      "text/html": [
       "<table>\n",
       "<thead>\n",
       "<tr><th>Env  </th><th>Org   </th><th>App                   </th><th style=\"text-align: right;\">  Unique custom components</th></tr>\n",
       "</thead>\n",
       "<tbody>\n",
       "<tr><td>tt02 </td><td>dibk  </td><td>mb-v3                 </td><td style=\"text-align: right;\">                        10</td></tr>\n",
       "<tr><td>tt02 </td><td>dibk  </td><td>ig-v3                 </td><td style=\"text-align: right;\">                        10</td></tr>\n",
       "<tr><td>tt02 </td><td>dibk  </td><td>fa-v3                 </td><td style=\"text-align: right;\">                         9</td></tr>\n",
       "<tr><td>tt02 </td><td>dat   </td><td>byggesak-samtykke-v3  </td><td style=\"text-align: right;\">                         6</td></tr>\n",
       "<tr><td>tt02 </td><td>dibk  </td><td>innsending-planforslag</td><td style=\"text-align: right;\">                         6</td></tr>\n",
       "<tr><td>tt02 </td><td>digdir</td><td>dan-data-app          </td><td style=\"text-align: right;\">                         1</td></tr>\n",
       "</tbody>\n",
       "</table>"
      ]
     },
     "metadata": {},
     "output_type": "display_data"
    },
    {
     "name": "stdout",
     "output_type": "stream",
     "text": [
      "Count: 6\n"
     ]
    }
   ],
   "source": [
    "with Apps.init(cache_dir) as apps:\n",
    "    apps.where(lambda app: app.components.some(lambda component: component.type == \"Custom\")).select(\n",
    "    {\"Unique custom components\": lambda app: app.components.filter(lambda component: component.type == \"Custom\")\n",
    "        .map(lambda component: component[\".tagName\"])\n",
    "        .filter(lambda tagName: tagName is not None)\n",
    "        .unique()\n",
    "        .length\n",
    "    }) \\\n",
    "    .order_by(lambda app: (app.data[\"Unique custom components\"],), reverse=True) \\\n",
    "    .table()"
   ]
  },
  {
   "cell_type": "code",
   "execution_count": null,
   "id": "76995ad1-0d4a-4f29-b5a4-4c732aad6578",
   "metadata": {},
   "outputs": [],
   "source": []
  }
 ],
 "metadata": {
  "kernelspec": {
   "display_name": "Python 3 (ipykernel)",
   "language": "python",
   "name": "python3"
  },
  "language_info": {
   "codemirror_mode": {
    "name": "ipython",
    "version": 3
   },
   "file_extension": ".py",
   "mimetype": "text/x-python",
   "name": "python",
   "nbconvert_exporter": "python",
   "pygments_lexer": "ipython3",
   "version": "3.13.1"
  },
  "widgets": {
   "application/vnd.jupyter.widget-state+json": {
    "state": {},
    "version_major": 2,
    "version_minor": 0
   }
  }
 },
 "nbformat": 4,
 "nbformat_minor": 5
}
