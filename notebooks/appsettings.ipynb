{
 "cells": [
  {
   "cell_type": "markdown",
   "id": "090771af-8d71-4dad-8cf6-18848f1af3eb",
   "metadata": {
    "jp-MarkdownHeadingCollapsed": true
   },
   "source": [
    "# Setup"
   ]
  },
  {
   "cell_type": "code",
   "execution_count": null,
   "id": "3154418a-4d01-4edc-b0ab-743a15d0f4b8",
   "metadata": {},
   "outputs": [],
   "source": [
    "%matplotlib ipympl\n",
    "import matplotlib, matplotlib.pyplot\n",
    "\n",
    "matplotlib.pyplot.ioff()\n",
    "\n",
    "from package.apps import Apps"
   ]
  },
  {
   "cell_type": "markdown",
   "id": "8e62470b-d2f4-49a1-bed8-254afc70738c",
   "metadata": {},
   "source": [
    "# Queries"
   ]
  },
  {
   "cell_type": "markdown",
   "id": "c69935a7-f0cd-4ea2-adc7-ea1c6c7c2683",
   "metadata": {},
   "source": [
    "## Apps in prod using JsonObjectInDataResponse"
   ]
  },
  {
   "cell_type": "code",
   "execution_count": null,
   "id": "72c387a8-5bd8-44b3-9b36-386f00d2f02d",
   "metadata": {},
   "outputs": [],
   "source": [
    "with Apps.init() as apps:\n",
    "    apps.where(\n",
    "        lambda app: app.env == \"prod\"\n",
    "        and app.app_settings.some(\n",
    "            lambda app_settings: app_settings.environment in [\"Production\", \"default\"]\n",
    "            and app_settings[\".FeatureManagement.JsonObjectInDataResponse\"] == True\n",
    "        )\n",
    "    ).table()"
   ]
  },
  {
   "cell_type": "markdown",
   "id": "f966414b-0751-4c34-9142-1afd18f5a1b8",
   "metadata": {},
   "source": [
    "## Apps in prod using RemoveHiddenData"
   ]
  },
  {
   "cell_type": "code",
   "execution_count": null,
   "id": "a9da86e1-0a8e-4afd-8259-822147811e90",
   "metadata": {},
   "outputs": [],
   "source": [
    "with Apps.init() as apps:\n",
    "    apps.where(\n",
    "        lambda app: app.env == \"prod\"\n",
    "        and app.app_settings.some(\n",
    "            lambda app_settings: app_settings.environment in [\"Production\", \"default\"]\n",
    "            and app_settings[\".AppSettings.RemoveHiddenData\"] == True\n",
    "        )\n",
    "    ).table()"
   ]
  },
  {
   "cell_type": "markdown",
   "id": "c2ab03b0-08fd-4b0d-8c0f-639d07dc442a",
   "metadata": {},
   "source": [
    "## Apps in prod using RequiredValidation"
   ]
  },
  {
   "cell_type": "code",
   "execution_count": null,
   "id": "5b5857b8-5805-46c7-b572-0b01079185dc",
   "metadata": {},
   "outputs": [],
   "source": [
    "with Apps.init() as apps:\n",
    "    apps.where(\n",
    "        lambda app: app.env == \"prod\"\n",
    "        and app.app_settings.some(\n",
    "            lambda app_settings: app_settings.environment in [\"Production\", \"default\"]\n",
    "            and app_settings[\".AppSettings.RequiredValidation\"] == True\n",
    "        )\n",
    "    ).table()"
   ]
  }
 ],
 "metadata": {
  "kernelspec": {
   "display_name": "Python 3 (ipykernel)",
   "language": "python",
   "name": "python3"
  },
  "language_info": {
   "codemirror_mode": {
    "name": "ipython",
    "version": 3
   },
   "file_extension": ".py",
   "mimetype": "text/x-python",
   "name": "python",
   "nbconvert_exporter": "python",
   "pygments_lexer": "ipython3",
   "version": "3.13.1"
  },
  "widgets": {
   "application/vnd.jupyter.widget-state+json": {
    "state": {},
    "version_major": 2,
    "version_minor": 0
   }
  }
 },
 "nbformat": 4,
 "nbformat_minor": 5
}
