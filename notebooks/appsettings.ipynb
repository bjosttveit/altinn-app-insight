{
 "cells": [
  {
   "cell_type": "markdown",
   "id": "090771af-8d71-4dad-8cf6-18848f1af3eb",
   "metadata": {
    "jp-MarkdownHeadingCollapsed": true
   },
   "source": [
    "# Setup"
   ]
  },
  {
   "cell_type": "code",
   "execution_count": 1,
   "id": "3154418a-4d01-4edc-b0ab-743a15d0f4b8",
   "metadata": {},
   "outputs": [],
   "source": [
    "%matplotlib ipympl\n",
    "import matplotlib, matplotlib.pyplot\n",
    "\n",
    "matplotlib.pyplot.ioff()\n",
    "\n",
    "from package.apps import Apps"
   ]
  },
  {
   "cell_type": "markdown",
   "id": "8e62470b-d2f4-49a1-bed8-254afc70738c",
   "metadata": {},
   "source": [
    "# Queries"
   ]
  },
  {
   "cell_type": "markdown",
   "id": "c69935a7-f0cd-4ea2-adc7-ea1c6c7c2683",
   "metadata": {},
   "source": [
    "## Apps in prod using JsonObjectInDataResponse"
   ]
  },
  {
   "cell_type": "code",
   "execution_count": 2,
   "id": "72c387a8-5bd8-44b3-9b36-386f00d2f02d",
   "metadata": {},
   "outputs": [
    {
     "data": {
      "text/html": [
       "<table>\n",
       "<thead>\n",
       "<tr><th>Env  </th><th>Org   </th><th>App                          </th></tr>\n",
       "</thead>\n",
       "<tbody>\n",
       "<tr><td>prod </td><td>digdir</td><td>tilskudd-dig-delt-komp       </td></tr>\n",
       "<tr><td>prod </td><td>brg   </td><td>stottetildeling-ny           </td></tr>\n",
       "<tr><td>prod </td><td>dihe  </td><td>omsetningsoppgave-for-alkohol</td></tr>\n",
       "<tr><td>prod </td><td>dihe  </td><td>soknad-bevillinger           </td></tr>\n",
       "<tr><td>prod </td><td>krt   </td><td>krt-1115a-1                  </td></tr>\n",
       "<tr><td>prod </td><td>srf   </td><td>bsk-rapport                  </td></tr>\n",
       "<tr><td>prod </td><td>srf   </td><td>drk-rapport                  </td></tr>\n",
       "<tr><td>prod </td><td>srf   </td><td>ettersendelse-dokumentasjon  </td></tr>\n",
       "<tr><td>prod </td><td>srf   </td><td>fullmakt-rettferdsvederlag   </td></tr>\n",
       "<tr><td>prod </td><td>srf   </td><td>fullstendighet-aarlig        </td></tr>\n",
       "<tr><td>prod </td><td>srf   </td><td>rettferdsvederlag            </td></tr>\n",
       "<tr><td>prod </td><td>srf   </td><td>varslingsombud               </td></tr>\n",
       "<tr><td>prod </td><td>pat   </td><td>correspondence               </td></tr>\n",
       "<tr><td>prod </td><td>pat   </td><td>ep-validering                </td></tr>\n",
       "<tr><td>prod </td><td>pat   </td><td>forundersokelse              </td></tr>\n",
       "<tr><td>prod </td><td>pat   </td><td>klagesaker-op                </td></tr>\n",
       "</tbody>\n",
       "</table>"
      ]
     },
     "metadata": {},
     "output_type": "display_data"
    },
    {
     "name": "stdout",
     "output_type": "stream",
     "text": [
      "Count: 16\n"
     ]
    }
   ],
   "source": [
    "with Apps.init() as apps:\n",
    "    apps.where(\n",
    "        lambda app: app.env == \"prod\"\n",
    "        and app.app_settings.some(\n",
    "            lambda app_settings: app_settings.environment in [\"Production\", \"default\"]\n",
    "            and app_settings[\".FeatureManagement.JsonObjectInDataResponse\"] == True\n",
    "        )\n",
    "    ).table()"
   ]
  },
  {
   "cell_type": "markdown",
   "id": "f966414b-0751-4c34-9142-1afd18f5a1b8",
   "metadata": {},
   "source": [
    "## Apps in prod using RemoveHiddenData"
   ]
  },
  {
   "cell_type": "code",
   "execution_count": 3,
   "id": "a9da86e1-0a8e-4afd-8259-822147811e90",
   "metadata": {},
   "outputs": [
    {
     "data": {
      "text/html": [
       "<table>\n",
       "<thead>\n",
       "<tr><th>Env  </th><th>Org  </th><th>App                           </th></tr>\n",
       "</thead>\n",
       "<tbody>\n",
       "<tr><td>prod </td><td>dat  </td><td>bemanning-aarligmelding       </td></tr>\n",
       "<tr><td>prod </td><td>dat  </td><td>bemanning-varseltilbakekalling</td></tr>\n",
       "<tr><td>prod </td><td>dihe </td><td>soknad-bevillinger            </td></tr>\n",
       "<tr><td>prod </td><td>mat  </td><td>fisk-meldepliktige-hendelser  </td></tr>\n",
       "<tr><td>prod </td><td>lt   </td><td>digital-compliance            </td></tr>\n",
       "<tr><td>prod </td><td>lt   </td><td>drone-flight-oslo-city-center </td></tr>\n",
       "<tr><td>prod </td><td>staf </td><td>avlopsvann-akutt-utslipp      </td></tr>\n",
       "<tr><td>prod </td><td>staf </td><td>ktu-tilskudd-soknad           </td></tr>\n",
       "<tr><td>prod </td><td>staf </td><td>melding-bedrift               </td></tr>\n",
       "<tr><td>prod </td><td>tad  </td><td>aeo                           </td></tr>\n",
       "<tr><td>prod </td><td>tad  </td><td>trk                           </td></tr>\n",
       "<tr><td>prod </td><td>ssb  </td><td>ra0174-01                     </td></tr>\n",
       "<tr><td>prod </td><td>ssb  </td><td>ra0255-01                     </td></tr>\n",
       "<tr><td>prod </td><td>ssb  </td><td>ra0351-01                     </td></tr>\n",
       "<tr><td>prod </td><td>ssb  </td><td>ra0419-02                     </td></tr>\n",
       "<tr><td>prod </td><td>ssb  </td><td>ra0481-01                     </td></tr>\n",
       "<tr><td>prod </td><td>ssb  </td><td>ra0536-01                     </td></tr>\n",
       "<tr><td>prod </td><td>ssb  </td><td>ra0563-01                     </td></tr>\n",
       "<tr><td>prod </td><td>ssb  </td><td>ra0775-01                     </td></tr>\n",
       "<tr><td>prod </td><td>ssb  </td><td>ra0798-01                     </td></tr>\n",
       "<tr><td>prod </td><td>ssb  </td><td>ra0806-01                     </td></tr>\n",
       "<tr><td>prod </td><td>ssb  </td><td>ra0824-01                     </td></tr>\n",
       "<tr><td>prod </td><td>ssb  </td><td>ra0825-01                     </td></tr>\n",
       "<tr><td>prod </td><td>ssb  </td><td>ra0826-01                     </td></tr>\n",
       "<tr><td>prod </td><td>ssb  </td><td>ra0827-01                     </td></tr>\n",
       "<tr><td>prod </td><td>ssb  </td><td>ra0828-01                     </td></tr>\n",
       "<tr><td>prod </td><td>ssb  </td><td>ra0829-01                     </td></tr>\n",
       "<tr><td>prod </td><td>ssb  </td><td>ra0830-01                     </td></tr>\n",
       "<tr><td>prod </td><td>ssb  </td><td>ra0831-01                     </td></tr>\n",
       "<tr><td>prod </td><td>ssb  </td><td>ra0832-01                     </td></tr>\n",
       "<tr><td>prod </td><td>ssb  </td><td>ra0833-01                     </td></tr>\n",
       "<tr><td>prod </td><td>ssb  </td><td>ra0834-01                     </td></tr>\n",
       "<tr><td>prod </td><td>ssb  </td><td>ra0835-01                     </td></tr>\n",
       "<tr><td>prod </td><td>ssb  </td><td>ra0836-01                     </td></tr>\n",
       "<tr><td>prod </td><td>ssb  </td><td>ra0837-01                     </td></tr>\n",
       "<tr><td>prod </td><td>ssb  </td><td>ra0838-01                     </td></tr>\n",
       "<tr><td>prod </td><td>ssb  </td><td>ra0842-01                     </td></tr>\n",
       "<tr><td>prod </td><td>ssb  </td><td>ra1100-01                     </td></tr>\n",
       "<tr><td>prod </td><td>ssb  </td><td>ra1403-01                     </td></tr>\n",
       "<tr><td>prod </td><td>ssb  </td><td>ra1407-01                     </td></tr>\n",
       "<tr><td>prod </td><td>krt  </td><td>krt-1003a-1                   </td></tr>\n",
       "<tr><td>prod </td><td>krt  </td><td>krt-1004a-1                   </td></tr>\n",
       "<tr><td>prod </td><td>krt  </td><td>krt-1007a-1                   </td></tr>\n",
       "<tr><td>prod </td><td>krt  </td><td>krt-1008a-1                   </td></tr>\n",
       "<tr><td>prod </td><td>krt  </td><td>krt-1012a-1                   </td></tr>\n",
       "<tr><td>prod </td><td>krt  </td><td>krt-1038a-1                   </td></tr>\n",
       "<tr><td>prod </td><td>krt  </td><td>krt-1124a-1                   </td></tr>\n",
       "<tr><td>prod </td><td>krt  </td><td>krt-1189a-1                   </td></tr>\n",
       "<tr><td>prod </td><td>srf  </td><td>bli-verge                     </td></tr>\n",
       "<tr><td>prod </td><td>srf  </td><td>bsk-rapport                   </td></tr>\n",
       "<tr><td>prod </td><td>srf  </td><td>bytte-bank                    </td></tr>\n",
       "<tr><td>prod </td><td>srf  </td><td>drk-rapport                   </td></tr>\n",
       "<tr><td>prod </td><td>srf  </td><td>ettersendelse-dokumentasjon   </td></tr>\n",
       "<tr><td>prod </td><td>srf  </td><td>fortsatt-forvaltning          </td></tr>\n",
       "<tr><td>prod </td><td>srf  </td><td>fufinn-behovsendring          </td></tr>\n",
       "<tr><td>prod </td><td>srf  </td><td>fufinn-behovskartlegging      </td></tr>\n",
       "<tr><td>prod </td><td>srf  </td><td>fullmakt-rettferdsvederlag    </td></tr>\n",
       "<tr><td>prod </td><td>srf  </td><td>fullstendighet-aarlig         </td></tr>\n",
       "<tr><td>prod </td><td>srf  </td><td>fullstendighet-avsluttende    </td></tr>\n",
       "<tr><td>prod </td><td>srf  </td><td>klage-pa-vedtak               </td></tr>\n",
       "<tr><td>prod </td><td>srf  </td><td>legeerklaering                </td></tr>\n",
       "<tr><td>prod </td><td>srf  </td><td>okonomisk-status              </td></tr>\n",
       "<tr><td>prod </td><td>srf  </td><td>opprettelse-av-kapitalkonto   </td></tr>\n",
       "<tr><td>prod </td><td>srf  </td><td>rettferdsvederlag             </td></tr>\n",
       "<tr><td>prod </td><td>srf  </td><td>samtykkeerklaering            </td></tr>\n",
       "<tr><td>prod </td><td>srf  </td><td>soknad-om-vergemal            </td></tr>\n",
       "<tr><td>prod </td><td>srf  </td><td>statsforvalterens-godkjenning </td></tr>\n",
       "<tr><td>prod </td><td>srf  </td><td>test-filoversendelse-dpo      </td></tr>\n",
       "<tr><td>prod </td><td>srf  </td><td>varslingsombud                </td></tr>\n",
       "<tr><td>prod </td><td>srf  </td><td>vergeerklaering               </td></tr>\n",
       "<tr><td>prod </td><td>srf  </td><td>vergegodtgjoring              </td></tr>\n",
       "</tbody>\n",
       "</table>"
      ]
     },
     "metadata": {},
     "output_type": "display_data"
    },
    {
     "name": "stdout",
     "output_type": "stream",
     "text": [
      "Count: 71\n"
     ]
    }
   ],
   "source": [
    "with Apps.init() as apps:\n",
    "    apps.where(\n",
    "        lambda app: app.env == \"prod\"\n",
    "        and app.app_settings.some(\n",
    "            lambda app_settings: app_settings.environment in [\"Production\", \"default\"]\n",
    "            and app_settings[\".AppSettings.RemoveHiddenData\"] == True\n",
    "        )\n",
    "    ).table()"
   ]
  },
  {
   "cell_type": "markdown",
   "id": "c2ab03b0-08fd-4b0d-8c0f-639d07dc442a",
   "metadata": {},
   "source": [
    "## Apps in prod using RequiredValidation"
   ]
  },
  {
   "cell_type": "code",
   "execution_count": 4,
   "id": "5b5857b8-5805-46c7-b572-0b01079185dc",
   "metadata": {},
   "outputs": [
    {
     "data": {
      "text/html": [
       "<table>\n",
       "<thead>\n",
       "<tr><th>Env  </th><th>Org  </th><th>App                          </th></tr>\n",
       "</thead>\n",
       "<tbody>\n",
       "<tr><td>prod </td><td>mat  </td><td>fisk-meldepliktige-hendelser </td></tr>\n",
       "<tr><td>prod </td><td>lt   </td><td>digital-compliance           </td></tr>\n",
       "<tr><td>prod </td><td>lt   </td><td>drone-flight-oslo-city-center</td></tr>\n",
       "<tr><td>prod </td><td>lt   </td><td>noise-complaint              </td></tr>\n",
       "<tr><td>prod </td><td>lt   </td><td>notice-of-concern            </td></tr>\n",
       "<tr><td>prod </td><td>lt   </td><td>objectionable-conditions     </td></tr>\n",
       "<tr><td>prod </td><td>staf </td><td>kopi-av-bevilling-sepskil    </td></tr>\n",
       "<tr><td>prod </td><td>staf </td><td>melding-bedrift              </td></tr>\n",
       "<tr><td>prod </td><td>staf </td><td>politikontakt-barn           </td></tr>\n",
       "<tr><td>prod </td><td>tad  </td><td>aeo                          </td></tr>\n",
       "<tr><td>prod </td><td>tad  </td><td>trk                          </td></tr>\n",
       "<tr><td>prod </td><td>krt  </td><td>krt-1007a-1                  </td></tr>\n",
       "<tr><td>prod </td><td>krt  </td><td>krt-1012a-1                  </td></tr>\n",
       "<tr><td>prod </td><td>srf  </td><td>bli-verge                    </td></tr>\n",
       "<tr><td>prod </td><td>srf  </td><td>bsk-rapport                  </td></tr>\n",
       "<tr><td>prod </td><td>srf  </td><td>bytte-bank                   </td></tr>\n",
       "<tr><td>prod </td><td>srf  </td><td>drk-rapport                  </td></tr>\n",
       "<tr><td>prod </td><td>srf  </td><td>ettersendelse-dokumentasjon  </td></tr>\n",
       "<tr><td>prod </td><td>srf  </td><td>fortsatt-forvaltning         </td></tr>\n",
       "<tr><td>prod </td><td>srf  </td><td>fufinn-behovsendring         </td></tr>\n",
       "<tr><td>prod </td><td>srf  </td><td>fufinn-behovskartlegging     </td></tr>\n",
       "<tr><td>prod </td><td>srf  </td><td>fullmakt-rettferdsvederlag   </td></tr>\n",
       "<tr><td>prod </td><td>srf  </td><td>fullstendighet-aarlig        </td></tr>\n",
       "<tr><td>prod </td><td>srf  </td><td>fullstendighet-avsluttende   </td></tr>\n",
       "<tr><td>prod </td><td>srf  </td><td>klage-pa-vedtak              </td></tr>\n",
       "<tr><td>prod </td><td>srf  </td><td>legeerklaering               </td></tr>\n",
       "<tr><td>prod </td><td>srf  </td><td>okonomisk-status             </td></tr>\n",
       "<tr><td>prod </td><td>srf  </td><td>opprettelse-av-kapitalkonto  </td></tr>\n",
       "<tr><td>prod </td><td>srf  </td><td>rettferdsvederlag            </td></tr>\n",
       "<tr><td>prod </td><td>srf  </td><td>samtykkeerklaering           </td></tr>\n",
       "<tr><td>prod </td><td>srf  </td><td>soknad-om-vergemal           </td></tr>\n",
       "<tr><td>prod </td><td>srf  </td><td>statsforvalterens-godkjenning</td></tr>\n",
       "<tr><td>prod </td><td>srf  </td><td>test-filoversendelse-dpo     </td></tr>\n",
       "<tr><td>prod </td><td>srf  </td><td>varslingsombud               </td></tr>\n",
       "<tr><td>prod </td><td>srf  </td><td>vergeerklaering              </td></tr>\n",
       "<tr><td>prod </td><td>srf  </td><td>vergegodtgjoring             </td></tr>\n",
       "</tbody>\n",
       "</table>"
      ]
     },
     "metadata": {},
     "output_type": "display_data"
    },
    {
     "name": "stdout",
     "output_type": "stream",
     "text": [
      "Count: 36\n"
     ]
    }
   ],
   "source": [
    "with Apps.init() as apps:\n",
    "    apps.where(\n",
    "        lambda app: app.env == \"prod\"\n",
    "        and app.app_settings.some(\n",
    "            lambda app_settings: app_settings.environment in [\"Production\", \"default\"]\n",
    "            and app_settings[\".AppSettings.RequiredValidation\"] == True\n",
    "        )\n",
    "    ).table()"
   ]
  }
 ],
 "metadata": {
  "kernelspec": {
   "display_name": "Python 3 (ipykernel)",
   "language": "python",
   "name": "python3"
  },
  "language_info": {
   "codemirror_mode": {
    "name": "ipython",
    "version": 3
   },
   "file_extension": ".py",
   "mimetype": "text/x-python",
   "name": "python",
   "nbconvert_exporter": "python",
   "pygments_lexer": "ipython3",
   "version": "3.13.1"
  },
  "widgets": {
   "application/vnd.jupyter.widget-state+json": {
    "state": {},
    "version_major": 2,
    "version_minor": 0
   }
  }
 },
 "nbformat": 4,
 "nbformat_minor": 5
}
