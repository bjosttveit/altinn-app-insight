{
 "cells": [
  {
   "cell_type": "markdown",
   "id": "7823c0e0-008b-43ea-b2f7-02c4182117c0",
   "metadata": {
    "jp-MarkdownHeadingCollapsed": true
   },
   "source": [
    "# Setup"
   ]
  },
  {
   "cell_type": "code",
   "execution_count": null,
   "id": "d94aa871-3efe-4586-b146-adc5dc052f74",
   "metadata": {},
   "outputs": [],
   "source": [
    "%matplotlib ipympl\n",
    "import matplotlib.pyplot\n",
    "\n",
    "matplotlib.pyplot.ioff()\n",
    "\n",
    "from package.apps import Apps"
   ]
  },
  {
   "cell_type": "markdown",
   "id": "630f8cc3-b5c5-4ec0-92e3-2b69969691b5",
   "metadata": {},
   "source": [
    "# Queries"
   ]
  },
  {
   "cell_type": "markdown",
   "id": "fc0d0559-c92f-4c93-a50c-ab7dec42cc48",
   "metadata": {},
   "source": [
    "## Apps in prod with signing task"
   ]
  },
  {
   "cell_type": "code",
   "execution_count": null,
   "id": "3968552b-0873-439f-9d72-94a2001b9276",
   "metadata": {},
   "outputs": [],
   "source": [
    "with Apps.init() as apps:\n",
    "    apps.where(lambda app: app.env == \"prod\").where(\n",
    "        lambda app: app.process.tasks.some(lambda task: task.type == \"signing\")\n",
    "    ).select(\n",
    "        {\n",
    "            \"Tasks\": lambda app: app.process.tasks,\n",
    "        }\n",
    "    ).table()"
   ]
  }
 ],
 "metadata": {
  "kernelspec": {
   "display_name": "Python 3 (ipykernel)",
   "language": "python",
   "name": "python3"
  },
  "language_info": {
   "codemirror_mode": {
    "name": "ipython",
    "version": 3
   },
   "file_extension": ".py",
   "mimetype": "text/x-python",
   "name": "python",
   "nbconvert_exporter": "python",
   "pygments_lexer": "ipython3",
   "version": "3.13.1"
  },
  "widgets": {
   "application/vnd.jupyter.widget-state+json": {
    "state": {},
    "version_major": 2,
    "version_minor": 0
   }
  }
 },
 "nbformat": 4,
 "nbformat_minor": 5
}
